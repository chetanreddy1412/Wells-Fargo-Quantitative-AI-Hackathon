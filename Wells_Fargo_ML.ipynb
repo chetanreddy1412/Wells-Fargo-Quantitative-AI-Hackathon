{
  "cells": [
    {
      "cell_type": "markdown",
      "metadata": {
        "id": "3Ln2kpeaoH-v"
      },
      "source": [
        "## **Reading the Data**"
      ]
    },
    {
      "cell_type": "code",
      "execution_count": 12,
      "metadata": {
        "id": "D2dgEwSM07Bw"
      },
      "outputs": [],
      "source": [
        "import numpy as np\n",
        "import pandas as pd\n",
        "import plotly.graph_objects as go\n",
        "from plotly.offline import iplot\n",
        "from IPython.display import clear_output\n",
        "import matplotlib.pyplot as plt\n",
        "import time\n",
        "import sys"
      ]
    },
    {
      "cell_type": "code",
      "execution_count": 13,
      "metadata": {
        "colab": {
          "base_uri": "https://localhost:8080/"
        },
        "id": "1pxRPeD1obxn",
        "outputId": "0b56114a-56b9-42aa-a326-7b8e5ddab35f"
      },
      "outputs": [
        {
          "output_type": "stream",
          "name": "stdout",
          "text": [
            "Requirement already satisfied: statsmodels in /usr/local/lib/python3.7/dist-packages (0.10.2)\n",
            "Collecting statsmodels\n",
            "  Downloading statsmodels-0.13.1-cp37-cp37m-manylinux_2_17_x86_64.manylinux2014_x86_64.whl (9.8 MB)\n",
            "\u001b[K     |████████████████████████████████| 9.8 MB 5.4 MB/s \n",
            "\u001b[?25hRequirement already satisfied: pandas>=0.25 in /usr/local/lib/python3.7/dist-packages (from statsmodels) (1.1.5)\n",
            "Requirement already satisfied: scipy>=1.3 in /usr/local/lib/python3.7/dist-packages (from statsmodels) (1.4.1)\n",
            "Requirement already satisfied: numpy>=1.17 in /usr/local/lib/python3.7/dist-packages (from statsmodels) (1.19.5)\n",
            "Requirement already satisfied: patsy>=0.5.2 in /usr/local/lib/python3.7/dist-packages (from statsmodels) (0.5.2)\n",
            "Requirement already satisfied: pytz>=2017.2 in /usr/local/lib/python3.7/dist-packages (from pandas>=0.25->statsmodels) (2018.9)\n",
            "Requirement already satisfied: python-dateutil>=2.7.3 in /usr/local/lib/python3.7/dist-packages (from pandas>=0.25->statsmodels) (2.8.2)\n",
            "Requirement already satisfied: six in /usr/local/lib/python3.7/dist-packages (from patsy>=0.5.2->statsmodels) (1.15.0)\n",
            "Installing collected packages: statsmodels\n",
            "  Attempting uninstall: statsmodels\n",
            "    Found existing installation: statsmodels 0.10.2\n",
            "    Uninstalling statsmodels-0.10.2:\n",
            "      Successfully uninstalled statsmodels-0.10.2\n",
            "Successfully installed statsmodels-0.13.1\n"
          ]
        }
      ],
      "source": [
        "pip install statsmodels --upgrade"
      ]
    },
    {
      "cell_type": "code",
      "source": [
        "url_training='https://drive.google.com/file/d/1dMzOVOkFNktF1ech6Ixp-3Y9uIbkjnet/view?usp=sharing'\n",
        "url_training='https://drive.google.com/uc?id=' + url_training.split('/')[-2]\n",
        "df = pd.read_csv(url_training)"
      ],
      "metadata": {
        "id": "4LHZdMt9INxL"
      },
      "execution_count": 14,
      "outputs": []
    },
    {
      "cell_type": "code",
      "execution_count": 10,
      "metadata": {
        "colab": {
          "base_uri": "https://localhost:8080/",
          "height": 488
        },
        "id": "1eV3yPD1Ube9",
        "outputId": "2226a4fd-d05a-4d00-d29a-1bd9b9ce8fca"
      },
      "outputs": [
        {
          "output_type": "execute_result",
          "data": {
            "text/html": [
              "\n",
              "  <div id=\"df-5931259d-f5ac-437b-bf0f-b11e9f476484\">\n",
              "    <div class=\"colab-df-container\">\n",
              "      <div>\n",
              "<style scoped>\n",
              "    .dataframe tbody tr th:only-of-type {\n",
              "        vertical-align: middle;\n",
              "    }\n",
              "\n",
              "    .dataframe tbody tr th {\n",
              "        vertical-align: top;\n",
              "    }\n",
              "\n",
              "    .dataframe thead th {\n",
              "        text-align: right;\n",
              "    }\n",
              "</style>\n",
              "<table border=\"1\" class=\"dataframe\">\n",
              "  <thead>\n",
              "    <tr style=\"text-align: right;\">\n",
              "      <th></th>\n",
              "      <th>Date</th>\n",
              "      <th>Tenor</th>\n",
              "      <th>0.1</th>\n",
              "      <th>0.2</th>\n",
              "      <th>0.3</th>\n",
              "      <th>0.4</th>\n",
              "      <th>0.5</th>\n",
              "      <th>0.6</th>\n",
              "      <th>0.7</th>\n",
              "      <th>0.8</th>\n",
              "      <th>0.9</th>\n",
              "      <th>1</th>\n",
              "      <th>1.1</th>\n",
              "      <th>1.2</th>\n",
              "      <th>1.3</th>\n",
              "      <th>1.4</th>\n",
              "      <th>1.5</th>\n",
              "      <th>1.6</th>\n",
              "      <th>1.7</th>\n",
              "      <th>1.8</th>\n",
              "      <th>1.9</th>\n",
              "    </tr>\n",
              "  </thead>\n",
              "  <tbody>\n",
              "    <tr>\n",
              "      <th>0</th>\n",
              "      <td>1/5/2017</td>\n",
              "      <td>2M</td>\n",
              "      <td>0.468214</td>\n",
              "      <td>0.419251</td>\n",
              "      <td>0.376260</td>\n",
              "      <td>0.338158</td>\n",
              "      <td>0.304372</td>\n",
              "      <td>0.274823</td>\n",
              "      <td>0.250066</td>\n",
              "      <td>0.231535</td>\n",
              "      <td>0.221404</td>\n",
              "      <td>0.220933</td>\n",
              "      <td>0.228418</td>\n",
              "      <td>0.240437</td>\n",
              "      <td>0.254316</td>\n",
              "      <td>0.268613</td>\n",
              "      <td>0.282659</td>\n",
              "      <td>0.296172</td>\n",
              "      <td>0.309045</td>\n",
              "      <td>0.321260</td>\n",
              "      <td>0.332831</td>\n",
              "    </tr>\n",
              "    <tr>\n",
              "      <th>1</th>\n",
              "      <td>1/5/2017</td>\n",
              "      <td>3M</td>\n",
              "      <td>0.458471</td>\n",
              "      <td>0.412710</td>\n",
              "      <td>0.372717</td>\n",
              "      <td>0.337489</td>\n",
              "      <td>0.306511</td>\n",
              "      <td>0.279714</td>\n",
              "      <td>0.257540</td>\n",
              "      <td>0.241007</td>\n",
              "      <td>0.231434</td>\n",
              "      <td>0.229423</td>\n",
              "      <td>0.233839</td>\n",
              "      <td>0.242411</td>\n",
              "      <td>0.253100</td>\n",
              "      <td>0.264611</td>\n",
              "      <td>0.276244</td>\n",
              "      <td>0.287647</td>\n",
              "      <td>0.298654</td>\n",
              "      <td>0.309196</td>\n",
              "      <td>0.319254</td>\n",
              "    </tr>\n",
              "    <tr>\n",
              "      <th>2</th>\n",
              "      <td>1/5/2017</td>\n",
              "      <td>6M</td>\n",
              "      <td>0.410305</td>\n",
              "      <td>0.374189</td>\n",
              "      <td>0.343045</td>\n",
              "      <td>0.316070</td>\n",
              "      <td>0.292842</td>\n",
              "      <td>0.273231</td>\n",
              "      <td>0.257346</td>\n",
              "      <td>0.245440</td>\n",
              "      <td>0.237726</td>\n",
              "      <td>0.234116</td>\n",
              "      <td>0.234078</td>\n",
              "      <td>0.236765</td>\n",
              "      <td>0.241295</td>\n",
              "      <td>0.246945</td>\n",
              "      <td>0.253200</td>\n",
              "      <td>0.259726</td>\n",
              "      <td>0.266312</td>\n",
              "      <td>0.272831</td>\n",
              "      <td>0.279207</td>\n",
              "    </tr>\n",
              "    <tr>\n",
              "      <th>3</th>\n",
              "      <td>1/5/2017</td>\n",
              "      <td>9M</td>\n",
              "      <td>0.385267</td>\n",
              "      <td>0.354580</td>\n",
              "      <td>0.328360</td>\n",
              "      <td>0.305878</td>\n",
              "      <td>0.286712</td>\n",
              "      <td>0.270643</td>\n",
              "      <td>0.257590</td>\n",
              "      <td>0.247529</td>\n",
              "      <td>0.240401</td>\n",
              "      <td>0.236030</td>\n",
              "      <td>0.234085</td>\n",
              "      <td>0.234121</td>\n",
              "      <td>0.235658</td>\n",
              "      <td>0.238264</td>\n",
              "      <td>0.241586</td>\n",
              "      <td>0.245360</td>\n",
              "      <td>0.249397</td>\n",
              "      <td>0.253564</td>\n",
              "      <td>0.257773</td>\n",
              "    </tr>\n",
              "    <tr>\n",
              "      <th>4</th>\n",
              "      <td>1/5/2017</td>\n",
              "      <td>1Y</td>\n",
              "      <td>0.358986</td>\n",
              "      <td>0.333608</td>\n",
              "      <td>0.312126</td>\n",
              "      <td>0.293870</td>\n",
              "      <td>0.278408</td>\n",
              "      <td>0.265457</td>\n",
              "      <td>0.254819</td>\n",
              "      <td>0.246339</td>\n",
              "      <td>0.239855</td>\n",
              "      <td>0.235185</td>\n",
              "      <td>0.232109</td>\n",
              "      <td>0.230384</td>\n",
              "      <td>0.229760</td>\n",
              "      <td>0.230003</td>\n",
              "      <td>0.230908</td>\n",
              "      <td>0.232303</td>\n",
              "      <td>0.234052</td>\n",
              "      <td>0.236049</td>\n",
              "      <td>0.238213</td>\n",
              "    </tr>\n",
              "    <tr>\n",
              "      <th>...</th>\n",
              "      <td>...</td>\n",
              "      <td>...</td>\n",
              "      <td>...</td>\n",
              "      <td>...</td>\n",
              "      <td>...</td>\n",
              "      <td>...</td>\n",
              "      <td>...</td>\n",
              "      <td>...</td>\n",
              "      <td>...</td>\n",
              "      <td>...</td>\n",
              "      <td>...</td>\n",
              "      <td>...</td>\n",
              "      <td>...</td>\n",
              "      <td>...</td>\n",
              "      <td>...</td>\n",
              "      <td>...</td>\n",
              "      <td>...</td>\n",
              "      <td>...</td>\n",
              "      <td>...</td>\n",
              "      <td>...</td>\n",
              "      <td>...</td>\n",
              "    </tr>\n",
              "    <tr>\n",
              "      <th>13637</th>\n",
              "      <td>10/14/2019</td>\n",
              "      <td>15Y</td>\n",
              "      <td>0.290467</td>\n",
              "      <td>0.274071</td>\n",
              "      <td>0.259819</td>\n",
              "      <td>0.247286</td>\n",
              "      <td>0.236167</td>\n",
              "      <td>0.226238</td>\n",
              "      <td>0.217329</td>\n",
              "      <td>0.209309</td>\n",
              "      <td>0.202077</td>\n",
              "      <td>0.195550</td>\n",
              "      <td>0.189663</td>\n",
              "      <td>0.184359</td>\n",
              "      <td>0.179593</td>\n",
              "      <td>0.175321</td>\n",
              "      <td>0.171508</td>\n",
              "      <td>0.168118</td>\n",
              "      <td>0.165119</td>\n",
              "      <td>0.162481</td>\n",
              "      <td>0.160172</td>\n",
              "    </tr>\n",
              "    <tr>\n",
              "      <th>13638</th>\n",
              "      <td>10/14/2019</td>\n",
              "      <td>20Y</td>\n",
              "      <td>0.279726</td>\n",
              "      <td>0.263635</td>\n",
              "      <td>0.249695</td>\n",
              "      <td>0.237473</td>\n",
              "      <td>0.226660</td>\n",
              "      <td>0.217030</td>\n",
              "      <td>0.208411</td>\n",
              "      <td>0.200674</td>\n",
              "      <td>0.193716</td>\n",
              "      <td>0.187456</td>\n",
              "      <td>0.181826</td>\n",
              "      <td>0.176772</td>\n",
              "      <td>0.172247</td>\n",
              "      <td>0.168208</td>\n",
              "      <td>0.164617</td>\n",
              "      <td>0.161440</td>\n",
              "      <td>0.158642</td>\n",
              "      <td>0.156194</td>\n",
              "      <td>0.154063</td>\n",
              "    </tr>\n",
              "    <tr>\n",
              "      <th>13639</th>\n",
              "      <td>10/14/2019</td>\n",
              "      <td>25Y</td>\n",
              "      <td>0.275693</td>\n",
              "      <td>0.259711</td>\n",
              "      <td>0.245916</td>\n",
              "      <td>0.233859</td>\n",
              "      <td>0.223221</td>\n",
              "      <td>0.213769</td>\n",
              "      <td>0.205330</td>\n",
              "      <td>0.197769</td>\n",
              "      <td>0.190981</td>\n",
              "      <td>0.184884</td>\n",
              "      <td>0.179409</td>\n",
              "      <td>0.174499</td>\n",
              "      <td>0.170106</td>\n",
              "      <td>0.166187</td>\n",
              "      <td>0.162703</td>\n",
              "      <td>0.159618</td>\n",
              "      <td>0.156900</td>\n",
              "      <td>0.154517</td>\n",
              "      <td>0.152440</td>\n",
              "    </tr>\n",
              "    <tr>\n",
              "      <th>13640</th>\n",
              "      <td>10/14/2019</td>\n",
              "      <td>30Y</td>\n",
              "      <td>0.271637</td>\n",
              "      <td>0.256054</td>\n",
              "      <td>0.242648</td>\n",
              "      <td>0.230965</td>\n",
              "      <td>0.220685</td>\n",
              "      <td>0.211571</td>\n",
              "      <td>0.203450</td>\n",
              "      <td>0.196186</td>\n",
              "      <td>0.189673</td>\n",
              "      <td>0.183826</td>\n",
              "      <td>0.178577</td>\n",
              "      <td>0.173867</td>\n",
              "      <td>0.169647</td>\n",
              "      <td>0.165873</td>\n",
              "      <td>0.162507</td>\n",
              "      <td>0.159514</td>\n",
              "      <td>0.156861</td>\n",
              "      <td>0.154518</td>\n",
              "      <td>0.152458</td>\n",
              "    </tr>\n",
              "    <tr>\n",
              "      <th>13641</th>\n",
              "      <td>10/14/2019</td>\n",
              "      <td>40Y</td>\n",
              "      <td>0.266593</td>\n",
              "      <td>0.251865</td>\n",
              "      <td>0.239246</td>\n",
              "      <td>0.228285</td>\n",
              "      <td>0.218661</td>\n",
              "      <td>0.210144</td>\n",
              "      <td>0.202557</td>\n",
              "      <td>0.195766</td>\n",
              "      <td>0.189666</td>\n",
              "      <td>0.184171</td>\n",
              "      <td>0.179214</td>\n",
              "      <td>0.174736</td>\n",
              "      <td>0.170689</td>\n",
              "      <td>0.167031</td>\n",
              "      <td>0.163726</td>\n",
              "      <td>0.160742</td>\n",
              "      <td>0.158050</td>\n",
              "      <td>0.155624</td>\n",
              "      <td>0.153441</td>\n",
              "    </tr>\n",
              "  </tbody>\n",
              "</table>\n",
              "<p>13642 rows × 21 columns</p>\n",
              "</div>\n",
              "      <button class=\"colab-df-convert\" onclick=\"convertToInteractive('df-5931259d-f5ac-437b-bf0f-b11e9f476484')\"\n",
              "              title=\"Convert this dataframe to an interactive table.\"\n",
              "              style=\"display:none;\">\n",
              "        \n",
              "  <svg xmlns=\"http://www.w3.org/2000/svg\" height=\"24px\"viewBox=\"0 0 24 24\"\n",
              "       width=\"24px\">\n",
              "    <path d=\"M0 0h24v24H0V0z\" fill=\"none\"/>\n",
              "    <path d=\"M18.56 5.44l.94 2.06.94-2.06 2.06-.94-2.06-.94-.94-2.06-.94 2.06-2.06.94zm-11 1L8.5 8.5l.94-2.06 2.06-.94-2.06-.94L8.5 2.5l-.94 2.06-2.06.94zm10 10l.94 2.06.94-2.06 2.06-.94-2.06-.94-.94-2.06-.94 2.06-2.06.94z\"/><path d=\"M17.41 7.96l-1.37-1.37c-.4-.4-.92-.59-1.43-.59-.52 0-1.04.2-1.43.59L10.3 9.45l-7.72 7.72c-.78.78-.78 2.05 0 2.83L4 21.41c.39.39.9.59 1.41.59.51 0 1.02-.2 1.41-.59l7.78-7.78 2.81-2.81c.8-.78.8-2.07 0-2.86zM5.41 20L4 18.59l7.72-7.72 1.47 1.35L5.41 20z\"/>\n",
              "  </svg>\n",
              "      </button>\n",
              "      \n",
              "  <style>\n",
              "    .colab-df-container {\n",
              "      display:flex;\n",
              "      flex-wrap:wrap;\n",
              "      gap: 12px;\n",
              "    }\n",
              "\n",
              "    .colab-df-convert {\n",
              "      background-color: #E8F0FE;\n",
              "      border: none;\n",
              "      border-radius: 50%;\n",
              "      cursor: pointer;\n",
              "      display: none;\n",
              "      fill: #1967D2;\n",
              "      height: 32px;\n",
              "      padding: 0 0 0 0;\n",
              "      width: 32px;\n",
              "    }\n",
              "\n",
              "    .colab-df-convert:hover {\n",
              "      background-color: #E2EBFA;\n",
              "      box-shadow: 0px 1px 2px rgba(60, 64, 67, 0.3), 0px 1px 3px 1px rgba(60, 64, 67, 0.15);\n",
              "      fill: #174EA6;\n",
              "    }\n",
              "\n",
              "    [theme=dark] .colab-df-convert {\n",
              "      background-color: #3B4455;\n",
              "      fill: #D2E3FC;\n",
              "    }\n",
              "\n",
              "    [theme=dark] .colab-df-convert:hover {\n",
              "      background-color: #434B5C;\n",
              "      box-shadow: 0px 1px 3px 1px rgba(0, 0, 0, 0.15);\n",
              "      filter: drop-shadow(0px 1px 2px rgba(0, 0, 0, 0.3));\n",
              "      fill: #FFFFFF;\n",
              "    }\n",
              "  </style>\n",
              "\n",
              "      <script>\n",
              "        const buttonEl =\n",
              "          document.querySelector('#df-5931259d-f5ac-437b-bf0f-b11e9f476484 button.colab-df-convert');\n",
              "        buttonEl.style.display =\n",
              "          google.colab.kernel.accessAllowed ? 'block' : 'none';\n",
              "\n",
              "        async function convertToInteractive(key) {\n",
              "          const element = document.querySelector('#df-5931259d-f5ac-437b-bf0f-b11e9f476484');\n",
              "          const dataTable =\n",
              "            await google.colab.kernel.invokeFunction('convertToInteractive',\n",
              "                                                     [key], {});\n",
              "          if (!dataTable) return;\n",
              "\n",
              "          const docLinkHtml = 'Like what you see? Visit the ' +\n",
              "            '<a target=\"_blank\" href=https://colab.research.google.com/notebooks/data_table.ipynb>data table notebook</a>'\n",
              "            + ' to learn more about interactive tables.';\n",
              "          element.innerHTML = '';\n",
              "          dataTable['output_type'] = 'display_data';\n",
              "          await google.colab.output.renderOutput(dataTable, element);\n",
              "          const docLink = document.createElement('div');\n",
              "          docLink.innerHTML = docLinkHtml;\n",
              "          element.appendChild(docLink);\n",
              "        }\n",
              "      </script>\n",
              "    </div>\n",
              "  </div>\n",
              "  "
            ],
            "text/plain": [
              "             Date Tenor       0.1  ...       1.7       1.8       1.9\n",
              "0        1/5/2017    2M  0.468214  ...  0.309045  0.321260  0.332831\n",
              "1        1/5/2017    3M  0.458471  ...  0.298654  0.309196  0.319254\n",
              "2        1/5/2017    6M  0.410305  ...  0.266312  0.272831  0.279207\n",
              "3        1/5/2017    9M  0.385267  ...  0.249397  0.253564  0.257773\n",
              "4        1/5/2017    1Y  0.358986  ...  0.234052  0.236049  0.238213\n",
              "...           ...   ...       ...  ...       ...       ...       ...\n",
              "13637  10/14/2019   15Y  0.290467  ...  0.165119  0.162481  0.160172\n",
              "13638  10/14/2019   20Y  0.279726  ...  0.158642  0.156194  0.154063\n",
              "13639  10/14/2019   25Y  0.275693  ...  0.156900  0.154517  0.152440\n",
              "13640  10/14/2019   30Y  0.271637  ...  0.156861  0.154518  0.152458\n",
              "13641  10/14/2019   40Y  0.266593  ...  0.158050  0.155624  0.153441\n",
              "\n",
              "[13642 rows x 21 columns]"
            ]
          },
          "metadata": {},
          "execution_count": 10
        }
      ],
      "source": [
        "df"
      ]
    },
    {
      "cell_type": "code",
      "execution_count": 15,
      "metadata": {
        "id": "bl2mz6gGTKjE"
      },
      "outputs": [],
      "source": [
        "url_ans='https://drive.google.com/file/d/1Mlcx_-BfXHsZ8qjDQXJ6V6fnVWwu7NiW/view?usp=sharing'\n",
        "url_ans='https://drive.google.com/uc?id=' + url_ans.split('/')[-2]\n",
        "df_ans = pd.read_csv(url_ans)"
      ]
    },
    {
      "cell_type": "code",
      "source": [
        "df_ans"
      ],
      "metadata": {
        "colab": {
          "base_uri": "https://localhost:8080/",
          "height": 424
        },
        "id": "iSGjgJpEIx39",
        "outputId": "3843d63b-6132-4c90-8e47-ef11f8f12117"
      },
      "execution_count": 16,
      "outputs": [
        {
          "output_type": "execute_result",
          "data": {
            "text/html": [
              "\n",
              "  <div id=\"df-cf433fd9-1e12-46c4-9127-f1de613e4111\">\n",
              "    <div class=\"colab-df-container\">\n",
              "      <div>\n",
              "<style scoped>\n",
              "    .dataframe tbody tr th:only-of-type {\n",
              "        vertical-align: middle;\n",
              "    }\n",
              "\n",
              "    .dataframe tbody tr th {\n",
              "        vertical-align: top;\n",
              "    }\n",
              "\n",
              "    .dataframe thead th {\n",
              "        text-align: right;\n",
              "    }\n",
              "</style>\n",
              "<table border=\"1\" class=\"dataframe\">\n",
              "  <thead>\n",
              "    <tr style=\"text-align: right;\">\n",
              "      <th></th>\n",
              "      <th>Date</th>\n",
              "      <th>Tenor</th>\n",
              "      <th>0.1</th>\n",
              "      <th>0.2</th>\n",
              "      <th>0.3</th>\n",
              "      <th>0.4</th>\n",
              "      <th>0.5</th>\n",
              "      <th>0.6</th>\n",
              "      <th>0.7</th>\n",
              "      <th>0.8</th>\n",
              "      <th>0.9</th>\n",
              "      <th>1</th>\n",
              "      <th>1.1</th>\n",
              "      <th>1.2</th>\n",
              "      <th>1.3</th>\n",
              "      <th>1.4</th>\n",
              "      <th>1.5</th>\n",
              "      <th>1.6</th>\n",
              "      <th>1.7</th>\n",
              "      <th>1.8</th>\n",
              "      <th>1.9</th>\n",
              "    </tr>\n",
              "  </thead>\n",
              "  <tbody>\n",
              "    <tr>\n",
              "      <th>0</th>\n",
              "      <td>10/15/2019</td>\n",
              "      <td>2M</td>\n",
              "      <td>0</td>\n",
              "      <td>0</td>\n",
              "      <td>0</td>\n",
              "      <td>0</td>\n",
              "      <td>0</td>\n",
              "      <td>0</td>\n",
              "      <td>0</td>\n",
              "      <td>0</td>\n",
              "      <td>0</td>\n",
              "      <td>0</td>\n",
              "      <td>0</td>\n",
              "      <td>0</td>\n",
              "      <td>0</td>\n",
              "      <td>0</td>\n",
              "      <td>0</td>\n",
              "      <td>0</td>\n",
              "      <td>0</td>\n",
              "      <td>0</td>\n",
              "      <td>0</td>\n",
              "    </tr>\n",
              "    <tr>\n",
              "      <th>1</th>\n",
              "      <td>10/15/2019</td>\n",
              "      <td>3M</td>\n",
              "      <td>0</td>\n",
              "      <td>0</td>\n",
              "      <td>0</td>\n",
              "      <td>0</td>\n",
              "      <td>0</td>\n",
              "      <td>0</td>\n",
              "      <td>0</td>\n",
              "      <td>0</td>\n",
              "      <td>0</td>\n",
              "      <td>0</td>\n",
              "      <td>0</td>\n",
              "      <td>0</td>\n",
              "      <td>0</td>\n",
              "      <td>0</td>\n",
              "      <td>0</td>\n",
              "      <td>0</td>\n",
              "      <td>0</td>\n",
              "      <td>0</td>\n",
              "      <td>0</td>\n",
              "    </tr>\n",
              "    <tr>\n",
              "      <th>2</th>\n",
              "      <td>10/15/2019</td>\n",
              "      <td>6M</td>\n",
              "      <td>0</td>\n",
              "      <td>0</td>\n",
              "      <td>0</td>\n",
              "      <td>0</td>\n",
              "      <td>0</td>\n",
              "      <td>0</td>\n",
              "      <td>0</td>\n",
              "      <td>0</td>\n",
              "      <td>0</td>\n",
              "      <td>0</td>\n",
              "      <td>0</td>\n",
              "      <td>0</td>\n",
              "      <td>0</td>\n",
              "      <td>0</td>\n",
              "      <td>0</td>\n",
              "      <td>0</td>\n",
              "      <td>0</td>\n",
              "      <td>0</td>\n",
              "      <td>0</td>\n",
              "    </tr>\n",
              "    <tr>\n",
              "      <th>3</th>\n",
              "      <td>10/15/2019</td>\n",
              "      <td>9M</td>\n",
              "      <td>0</td>\n",
              "      <td>0</td>\n",
              "      <td>0</td>\n",
              "      <td>0</td>\n",
              "      <td>0</td>\n",
              "      <td>0</td>\n",
              "      <td>0</td>\n",
              "      <td>0</td>\n",
              "      <td>0</td>\n",
              "      <td>0</td>\n",
              "      <td>0</td>\n",
              "      <td>0</td>\n",
              "      <td>0</td>\n",
              "      <td>0</td>\n",
              "      <td>0</td>\n",
              "      <td>0</td>\n",
              "      <td>0</td>\n",
              "      <td>0</td>\n",
              "      <td>0</td>\n",
              "    </tr>\n",
              "    <tr>\n",
              "      <th>4</th>\n",
              "      <td>10/15/2019</td>\n",
              "      <td>1Y</td>\n",
              "      <td>0</td>\n",
              "      <td>0</td>\n",
              "      <td>0</td>\n",
              "      <td>0</td>\n",
              "      <td>0</td>\n",
              "      <td>0</td>\n",
              "      <td>0</td>\n",
              "      <td>0</td>\n",
              "      <td>0</td>\n",
              "      <td>0</td>\n",
              "      <td>0</td>\n",
              "      <td>0</td>\n",
              "      <td>0</td>\n",
              "      <td>0</td>\n",
              "      <td>0</td>\n",
              "      <td>0</td>\n",
              "      <td>0</td>\n",
              "      <td>0</td>\n",
              "      <td>0</td>\n",
              "    </tr>\n",
              "    <tr>\n",
              "      <th>...</th>\n",
              "      <td>...</td>\n",
              "      <td>...</td>\n",
              "      <td>...</td>\n",
              "      <td>...</td>\n",
              "      <td>...</td>\n",
              "      <td>...</td>\n",
              "      <td>...</td>\n",
              "      <td>...</td>\n",
              "      <td>...</td>\n",
              "      <td>...</td>\n",
              "      <td>...</td>\n",
              "      <td>...</td>\n",
              "      <td>...</td>\n",
              "      <td>...</td>\n",
              "      <td>...</td>\n",
              "      <td>...</td>\n",
              "      <td>...</td>\n",
              "      <td>...</td>\n",
              "      <td>...</td>\n",
              "      <td>...</td>\n",
              "      <td>...</td>\n",
              "    </tr>\n",
              "    <tr>\n",
              "      <th>1135</th>\n",
              "      <td>1/6/2020</td>\n",
              "      <td>15Y</td>\n",
              "      <td>0</td>\n",
              "      <td>0</td>\n",
              "      <td>0</td>\n",
              "      <td>0</td>\n",
              "      <td>0</td>\n",
              "      <td>0</td>\n",
              "      <td>0</td>\n",
              "      <td>0</td>\n",
              "      <td>0</td>\n",
              "      <td>0</td>\n",
              "      <td>0</td>\n",
              "      <td>0</td>\n",
              "      <td>0</td>\n",
              "      <td>0</td>\n",
              "      <td>0</td>\n",
              "      <td>0</td>\n",
              "      <td>0</td>\n",
              "      <td>0</td>\n",
              "      <td>0</td>\n",
              "    </tr>\n",
              "    <tr>\n",
              "      <th>1136</th>\n",
              "      <td>1/6/2020</td>\n",
              "      <td>20Y</td>\n",
              "      <td>0</td>\n",
              "      <td>0</td>\n",
              "      <td>0</td>\n",
              "      <td>0</td>\n",
              "      <td>0</td>\n",
              "      <td>0</td>\n",
              "      <td>0</td>\n",
              "      <td>0</td>\n",
              "      <td>0</td>\n",
              "      <td>0</td>\n",
              "      <td>0</td>\n",
              "      <td>0</td>\n",
              "      <td>0</td>\n",
              "      <td>0</td>\n",
              "      <td>0</td>\n",
              "      <td>0</td>\n",
              "      <td>0</td>\n",
              "      <td>0</td>\n",
              "      <td>0</td>\n",
              "    </tr>\n",
              "    <tr>\n",
              "      <th>1137</th>\n",
              "      <td>1/6/2020</td>\n",
              "      <td>25Y</td>\n",
              "      <td>0</td>\n",
              "      <td>0</td>\n",
              "      <td>0</td>\n",
              "      <td>0</td>\n",
              "      <td>0</td>\n",
              "      <td>0</td>\n",
              "      <td>0</td>\n",
              "      <td>0</td>\n",
              "      <td>0</td>\n",
              "      <td>0</td>\n",
              "      <td>0</td>\n",
              "      <td>0</td>\n",
              "      <td>0</td>\n",
              "      <td>0</td>\n",
              "      <td>0</td>\n",
              "      <td>0</td>\n",
              "      <td>0</td>\n",
              "      <td>0</td>\n",
              "      <td>0</td>\n",
              "    </tr>\n",
              "    <tr>\n",
              "      <th>1138</th>\n",
              "      <td>1/6/2020</td>\n",
              "      <td>30Y</td>\n",
              "      <td>0</td>\n",
              "      <td>0</td>\n",
              "      <td>0</td>\n",
              "      <td>0</td>\n",
              "      <td>0</td>\n",
              "      <td>0</td>\n",
              "      <td>0</td>\n",
              "      <td>0</td>\n",
              "      <td>0</td>\n",
              "      <td>0</td>\n",
              "      <td>0</td>\n",
              "      <td>0</td>\n",
              "      <td>0</td>\n",
              "      <td>0</td>\n",
              "      <td>0</td>\n",
              "      <td>0</td>\n",
              "      <td>0</td>\n",
              "      <td>0</td>\n",
              "      <td>0</td>\n",
              "    </tr>\n",
              "    <tr>\n",
              "      <th>1139</th>\n",
              "      <td>1/6/2020</td>\n",
              "      <td>40Y</td>\n",
              "      <td>0</td>\n",
              "      <td>0</td>\n",
              "      <td>0</td>\n",
              "      <td>0</td>\n",
              "      <td>0</td>\n",
              "      <td>0</td>\n",
              "      <td>0</td>\n",
              "      <td>0</td>\n",
              "      <td>0</td>\n",
              "      <td>0</td>\n",
              "      <td>0</td>\n",
              "      <td>0</td>\n",
              "      <td>0</td>\n",
              "      <td>0</td>\n",
              "      <td>0</td>\n",
              "      <td>0</td>\n",
              "      <td>0</td>\n",
              "      <td>0</td>\n",
              "      <td>0</td>\n",
              "    </tr>\n",
              "  </tbody>\n",
              "</table>\n",
              "<p>1140 rows × 21 columns</p>\n",
              "</div>\n",
              "      <button class=\"colab-df-convert\" onclick=\"convertToInteractive('df-cf433fd9-1e12-46c4-9127-f1de613e4111')\"\n",
              "              title=\"Convert this dataframe to an interactive table.\"\n",
              "              style=\"display:none;\">\n",
              "        \n",
              "  <svg xmlns=\"http://www.w3.org/2000/svg\" height=\"24px\"viewBox=\"0 0 24 24\"\n",
              "       width=\"24px\">\n",
              "    <path d=\"M0 0h24v24H0V0z\" fill=\"none\"/>\n",
              "    <path d=\"M18.56 5.44l.94 2.06.94-2.06 2.06-.94-2.06-.94-.94-2.06-.94 2.06-2.06.94zm-11 1L8.5 8.5l.94-2.06 2.06-.94-2.06-.94L8.5 2.5l-.94 2.06-2.06.94zm10 10l.94 2.06.94-2.06 2.06-.94-2.06-.94-.94-2.06-.94 2.06-2.06.94z\"/><path d=\"M17.41 7.96l-1.37-1.37c-.4-.4-.92-.59-1.43-.59-.52 0-1.04.2-1.43.59L10.3 9.45l-7.72 7.72c-.78.78-.78 2.05 0 2.83L4 21.41c.39.39.9.59 1.41.59.51 0 1.02-.2 1.41-.59l7.78-7.78 2.81-2.81c.8-.78.8-2.07 0-2.86zM5.41 20L4 18.59l7.72-7.72 1.47 1.35L5.41 20z\"/>\n",
              "  </svg>\n",
              "      </button>\n",
              "      \n",
              "  <style>\n",
              "    .colab-df-container {\n",
              "      display:flex;\n",
              "      flex-wrap:wrap;\n",
              "      gap: 12px;\n",
              "    }\n",
              "\n",
              "    .colab-df-convert {\n",
              "      background-color: #E8F0FE;\n",
              "      border: none;\n",
              "      border-radius: 50%;\n",
              "      cursor: pointer;\n",
              "      display: none;\n",
              "      fill: #1967D2;\n",
              "      height: 32px;\n",
              "      padding: 0 0 0 0;\n",
              "      width: 32px;\n",
              "    }\n",
              "\n",
              "    .colab-df-convert:hover {\n",
              "      background-color: #E2EBFA;\n",
              "      box-shadow: 0px 1px 2px rgba(60, 64, 67, 0.3), 0px 1px 3px 1px rgba(60, 64, 67, 0.15);\n",
              "      fill: #174EA6;\n",
              "    }\n",
              "\n",
              "    [theme=dark] .colab-df-convert {\n",
              "      background-color: #3B4455;\n",
              "      fill: #D2E3FC;\n",
              "    }\n",
              "\n",
              "    [theme=dark] .colab-df-convert:hover {\n",
              "      background-color: #434B5C;\n",
              "      box-shadow: 0px 1px 3px 1px rgba(0, 0, 0, 0.15);\n",
              "      filter: drop-shadow(0px 1px 2px rgba(0, 0, 0, 0.3));\n",
              "      fill: #FFFFFF;\n",
              "    }\n",
              "  </style>\n",
              "\n",
              "      <script>\n",
              "        const buttonEl =\n",
              "          document.querySelector('#df-cf433fd9-1e12-46c4-9127-f1de613e4111 button.colab-df-convert');\n",
              "        buttonEl.style.display =\n",
              "          google.colab.kernel.accessAllowed ? 'block' : 'none';\n",
              "\n",
              "        async function convertToInteractive(key) {\n",
              "          const element = document.querySelector('#df-cf433fd9-1e12-46c4-9127-f1de613e4111');\n",
              "          const dataTable =\n",
              "            await google.colab.kernel.invokeFunction('convertToInteractive',\n",
              "                                                     [key], {});\n",
              "          if (!dataTable) return;\n",
              "\n",
              "          const docLinkHtml = 'Like what you see? Visit the ' +\n",
              "            '<a target=\"_blank\" href=https://colab.research.google.com/notebooks/data_table.ipynb>data table notebook</a>'\n",
              "            + ' to learn more about interactive tables.';\n",
              "          element.innerHTML = '';\n",
              "          dataTable['output_type'] = 'display_data';\n",
              "          await google.colab.output.renderOutput(dataTable, element);\n",
              "          const docLink = document.createElement('div');\n",
              "          docLink.innerHTML = docLinkHtml;\n",
              "          element.appendChild(docLink);\n",
              "        }\n",
              "      </script>\n",
              "    </div>\n",
              "  </div>\n",
              "  "
            ],
            "text/plain": [
              "            Date Tenor  0.1  0.2  0.3  0.4  ...  1.4  1.5  1.6  1.7  1.8  1.9\n",
              "0     10/15/2019    2M    0    0    0    0  ...    0    0    0    0    0    0\n",
              "1     10/15/2019    3M    0    0    0    0  ...    0    0    0    0    0    0\n",
              "2     10/15/2019    6M    0    0    0    0  ...    0    0    0    0    0    0\n",
              "3     10/15/2019    9M    0    0    0    0  ...    0    0    0    0    0    0\n",
              "4     10/15/2019    1Y    0    0    0    0  ...    0    0    0    0    0    0\n",
              "...          ...   ...  ...  ...  ...  ...  ...  ...  ...  ...  ...  ...  ...\n",
              "1135    1/6/2020   15Y    0    0    0    0  ...    0    0    0    0    0    0\n",
              "1136    1/6/2020   20Y    0    0    0    0  ...    0    0    0    0    0    0\n",
              "1137    1/6/2020   25Y    0    0    0    0  ...    0    0    0    0    0    0\n",
              "1138    1/6/2020   30Y    0    0    0    0  ...    0    0    0    0    0    0\n",
              "1139    1/6/2020   40Y    0    0    0    0  ...    0    0    0    0    0    0\n",
              "\n",
              "[1140 rows x 21 columns]"
            ]
          },
          "metadata": {},
          "execution_count": 16
        }
      ]
    },
    {
      "cell_type": "markdown",
      "metadata": {
        "id": "nodTmxdzpNR3"
      },
      "source": [
        "## **Preliminary Processing**"
      ]
    },
    {
      "cell_type": "code",
      "execution_count": 17,
      "metadata": {
        "id": "LkZUiOg3MjvP"
      },
      "outputs": [],
      "source": [
        "moneyness_columns = '0.1 0.2 0.3 0.4 0.5 0.6 0.7 0.8 0.9 1 1.1 1.2 1.3 1.4 1.5 1.6 1.7 1.8 1.9'.split()\n",
        "moneyness_axis = [float(x) for x in moneyness_columns]\n",
        "tenor_axis = df.Tenor.unique()\n",
        "\n",
        "def get_surfaces_and_dates(df):\n",
        "    i=0\n",
        "    num_ticks = 19\n",
        "    time_steps = 1\n",
        "    num_entries = 13642\n",
        "    surfaces = []\n",
        "    dates = []\n",
        "    while i<num_entries:\n",
        "        z = df[moneyness_columns].iloc[i:i+num_ticks].values\n",
        "        surfaces.append(z)\n",
        "        dates.append(df.Date.iloc[i])\n",
        "        i += time_steps*num_ticks\n",
        "    return np.array(surfaces),np.array(dates)"
      ]
    },
    {
      "cell_type": "code",
      "execution_count": 18,
      "metadata": {
        "id": "2uW60QcsfHNr"
      },
      "outputs": [],
      "source": [
        "surfaces,dates = get_surfaces_and_dates(df)"
      ]
    },
    {
      "cell_type": "markdown",
      "metadata": {
        "id": "kwVzfrinj6e1"
      },
      "source": [
        "## **Data Visualisation**"
      ]
    },
    {
      "cell_type": "code",
      "execution_count": 19,
      "metadata": {
        "id": "siK3Bh0GMcAW"
      },
      "outputs": [],
      "source": [
        "def get_surface_fig(x,y,z,date=\"\"):\n",
        "    surface = go.Surface(z=z,x=x,y=y)\n",
        "    fig = go.Figure(data=[surface])\n",
        "    scene = dict(xaxis_title=\"Tenor\",\n",
        "                 yaxis_title=\"Moneyness\",\n",
        "                 zaxis_title=\"Implied Volatility\",\n",
        "                 xaxis = dict(nticks=5),\n",
        "                 yaxis = dict(nticks=5),\n",
        "                 zaxis = dict(nticks=10, range=[0,0.8]),\n",
        "                 aspectratio = dict(x=1,y=1,z=1),\n",
        "                 camera=dict(eye=dict(x=1.8, y=1.8, z=1.5)))\n",
        "    \n",
        "    fig.update_layout(title=\"Implied Volatility Surface on {} (MM/DD/YYYY)\".format(date),\n",
        "                      width = 800, height = 800,\n",
        "                      scene = scene\n",
        "                      )\n",
        "    return fig\n",
        "\n",
        "def display_day(dates,surfaces,i):\n",
        "    z  = surfaces[i]\n",
        "    fig = get_surface_fig(x=tenor_axis,y=moneyness_axis,z=z,date=dates[i])\n",
        "    fig.show()"
      ]
    },
    {
      "cell_type": "code",
      "execution_count": 20,
      "metadata": {
        "colab": {
          "base_uri": "https://localhost:8080/",
          "height": 817
        },
        "id": "zLnX1juopkd4",
        "outputId": "799c12d5-7d92-4c98-8321-b23d319cb3fb"
      },
      "outputs": [
        {
          "output_type": "display_data",
          "data": {
            "text/html": [
              "<html>\n",
              "<head><meta charset=\"utf-8\" /></head>\n",
              "<body>\n",
              "    <div>\n",
              "            <script src=\"https://cdnjs.cloudflare.com/ajax/libs/mathjax/2.7.5/MathJax.js?config=TeX-AMS-MML_SVG\"></script><script type=\"text/javascript\">if (window.MathJax) {MathJax.Hub.Config({SVG: {font: \"STIX-Web\"}});}</script>\n",
              "                <script type=\"text/javascript\">window.PlotlyConfig = {MathJaxConfig: 'local'};</script>\n",
              "        <script src=\"https://cdn.plot.ly/plotly-latest.min.js\"></script>    \n",
              "            <div id=\"95eb32dc-434c-471c-9dfb-72b4f4cc82e3\" class=\"plotly-graph-div\" style=\"height:800px; width:800px;\"></div>\n",
              "            <script type=\"text/javascript\">\n",
              "                \n",
              "                    window.PLOTLYENV=window.PLOTLYENV || {};\n",
              "                    \n",
              "                if (document.getElementById(\"95eb32dc-434c-471c-9dfb-72b4f4cc82e3\")) {\n",
              "                    Plotly.newPlot(\n",
              "                        '95eb32dc-434c-471c-9dfb-72b4f4cc82e3',\n",
              "                        [{\"type\": \"surface\", \"x\": [\"2M\", \"3M\", \"6M\", \"9M\", \"1Y\", \"2Y\", \"3Y\", \"4Y\", \"5Y\", \"6Y\", \"7Y\", \"8Y\", \"9Y\", \"10Y\", \"15Y\", \"20Y\", \"25Y\", \"30Y\", \"40Y\"], \"y\": [0.1, 0.2, 0.3, 0.4, 0.5, 0.6, 0.7, 0.8, 0.9, 1.0, 1.1, 1.2, 1.3, 1.4, 1.5, 1.6, 1.7, 1.8, 1.9], \"z\": [[0.510768887, 0.453706581, 0.402991493, 0.357219677, 0.315446377, 0.277086006, 0.241950737, 0.21053407100000002, 0.18484730600000002, 0.16964604600000002, 0.16924921899999998, 0.179855735, 0.19486818399999997, 0.21087565, 0.22662285, 0.241689878, 0.255960939, 0.269433612, 0.282147506], [0.450763939, 0.403018246, 0.36075308700000003, 0.32281180800000003, 0.288446584, 0.25724027899999996, 0.229138961, 0.20463288, 0.18512412600000003, 0.173067853, 0.170273208, 0.17518636699999998, 0.184348861, 0.195225987, 0.206540115, 0.217720921, 0.22852703600000002, 0.238866091, 0.24871399100000002], [0.382510533, 0.345977446, 0.31391457100000003, 0.28544638699999997, 0.260030875, 0.237387725, 0.21748634100000003, 0.20057054600000002, 0.187167525, 0.177943885, 0.17326827, 0.172745177, 0.175321012, 0.179844434, 0.185437525, 0.19153857300000002, 0.197815885, 0.204080695, 0.21022827600000002], [0.356858666, 0.325358584, 0.297878872, 0.273650386, 0.252192745, 0.233237909, 0.216694495, 0.202627607, 0.191224539, 0.18270745100000002, 0.177177219, 0.174461913, 0.17410481100000003, 0.175511057, 0.17811789100000003, 0.18148237399999997, 0.18529052199999999, 0.189332003, 0.193470064], [0.34666729999999996, 0.31768684, 0.292491634, 0.270356086, 0.250818059, 0.233600499, 0.2185683, 0.20569877600000003, 0.19504770100000002, 0.186694602, 0.18066384100000002, 0.1768487, 0.174987648, 0.17471288199999999, 0.175633788, 0.177402903, 0.179744194, 0.182453077, 0.185383977], [0.33477731, 0.309682759, 0.28798476, 0.269014925, 0.252330359, 0.237636636, 0.22474216100000002, 0.213527522, 0.20392077399999997, 0.19587359899999998, 0.18933699, 0.184239273, 0.18047229, 0.17789060199999998, 0.17632313800000002, 0.17559113199999998, 0.17552481399999997, 0.175974347, 0.17681438600000002], [0.335287653, 0.311280489, 0.29053796600000004, 0.272402867, 0.25643297600000003, 0.24232543399999998, 0.229872121, 0.21893074399999998, 0.209403688, 0.201220344, 0.194321009, 0.18864254600000002, 0.184107561, 0.18061928100000002, 0.178063064, 0.17631322100000002, 0.17524215199999998, 0.17472872, 0.174664038], [0.335396982, 0.311818392, 0.291440095, 0.273610601, 0.25788909600000004, 0.24397075199999999, 0.23164284300000001, 0.22075672100000002, 0.21120798300000002, 0.20292067100000002, 0.195833468, 0.189887423, 0.185016077, 0.181139435, 0.178162828, 0.17598036399999997, 0.17448124399999998, 0.17355666, 0.17310544600000002], [0.33429036100000004, 0.310955363, 0.290779638, 0.273116865, 0.257528805, 0.243711375, 0.23145132100000002, 0.220598713, 0.211047732, 0.202721636, 0.195559791, 0.189506117, 0.184499489, 0.180467321, 0.177323423, 0.174970154, 0.173303648, 0.172220123, 0.17162147100000003], [0.329491476, 0.306514088, 0.286636448, 0.269222697, 0.253841306, 0.240192518, 0.22806589600000002, 0.217313478, 0.207831145, 0.199544133, 0.19239454399999997, 0.186330075, 0.18129440600000002, 0.17722039899999997, 0.174027303, 0.17162224199999998, 0.16990497100000002, 0.16877405899999998, 0.16813261300000001], [0.325649849, 0.302989583, 0.283380595, 0.266195618, 0.25100862399999996, 0.237523331, 0.225531416, 0.21488617100000001, 0.205484303, 0.197251887, 0.190132302, 0.184075326, 0.179027678, 0.17492611, 0.171694213, 0.16924336199999998, 0.16747699, 0.166296484, 0.165606869], [0.32071789, 0.298276883, 0.278842587, 0.261796341, 0.24671801100000001, 0.23331566, 0.221384505, 0.210781114, 0.201405607, 0.193187885, 0.18607563300000002, 0.18002322699999998, 0.17498182199999998, 0.170891825, 0.16767916900000002, 0.165256025, 0.16352523900000002, 0.16238666599999999, 0.16174337800000002], [0.31697860699999997, 0.294708488, 0.275410554, 0.25847269100000003, 0.243479206, 0.230141383, 0.21825701399999997, 0.207685012, 0.19832794399999998, 0.190118492, 0.183007557, 0.176953063, 0.17190971100000002, 0.16782097, 0.164614886, 0.16220455, 0.160492608, 0.159377916, 0.15876215400000002], [0.313868825, 0.29174621100000003, 0.272568937, 0.255730222, 0.24081806, 0.22754645899999998, 0.2157154, 0.205185759, 0.195862061, 0.18767908600000002, 0.18059001600000002, 0.174555132, 0.169531333, 0.16546381, 0.162281592, 0.15989794400000001, 0.158215004, 0.157130723, 0.156545767], [0.282852772, 0.263292885, 0.245493856, 0.229699548, 0.21568969300000002, 0.203205291, 0.19206878100000002, 0.182161357, 0.17340720399999998, 0.16576058, 0.15919325, 0.153681226, 0.149191576, 0.14567186199999999, 0.143045364, 0.1412136, 0.140064686, 0.139483876, 0.139362712], [0.257485277, 0.240410347, 0.22476678, 0.210216383, 0.19675649, 0.184741591, 0.174036142, 0.164541949, 0.156205247, 0.149003075, 0.142927924, 0.13796968, 0.134097239, 0.13124543800000002, 0.129312885, 0.128171492, 0.127682553, 0.127712195, 0.128141676], [0.242755821, 0.227464428, 0.213432605, 0.20036892399999998, 0.188056353, 0.17645622800000002, 0.166075454, 0.156913024, 0.148926551, 0.142102557, 0.136438282, 0.131920421, 0.128505221, 0.126107625, 0.124604725, 0.123851288, 0.123699058, 0.12401201099999999, 0.124674466], [0.231397981, 0.217393589, 0.204529459, 0.192546049, 0.18124931800000002, 0.17048846399999998, 0.160641514, 0.152017115, 0.14457531, 0.138298678, 0.133172375, 0.129163382, 0.126204794, 0.12419175, 0.122990658, 0.12245630800000001, 0.122448709, 0.122844276, 0.123540488], [0.216464217, 0.204354532, 0.19321470899999998, 0.182833136, 0.17305050000000002, 0.16374117300000002, 0.154861666, 0.14703898199999998, 0.140431915, 0.135006545, 0.13071735199999998, 0.127491178, 0.125221818, 0.123776999, 0.123013334, 0.122791879, 0.122989005, 0.123501302, 0.12424589]]}],\n",
              "                        {\"height\": 800, \"scene\": {\"aspectratio\": {\"x\": 1, \"y\": 1, \"z\": 1}, \"camera\": {\"eye\": {\"x\": 1.8, \"y\": 1.8, \"z\": 1.5}}, \"xaxis\": {\"nticks\": 5, \"title\": {\"text\": \"Tenor\"}}, \"yaxis\": {\"nticks\": 5, \"title\": {\"text\": \"Moneyness\"}}, \"zaxis\": {\"nticks\": 10, \"range\": [0, 0.8], \"title\": {\"text\": \"Implied Volatility\"}}}, \"template\": {\"data\": {\"bar\": [{\"error_x\": {\"color\": \"#2a3f5f\"}, \"error_y\": {\"color\": \"#2a3f5f\"}, \"marker\": {\"line\": {\"color\": \"#E5ECF6\", \"width\": 0.5}}, \"type\": \"bar\"}], \"barpolar\": [{\"marker\": {\"line\": {\"color\": \"#E5ECF6\", \"width\": 0.5}}, \"type\": \"barpolar\"}], \"carpet\": [{\"aaxis\": {\"endlinecolor\": \"#2a3f5f\", \"gridcolor\": \"white\", \"linecolor\": \"white\", \"minorgridcolor\": \"white\", \"startlinecolor\": \"#2a3f5f\"}, \"baxis\": {\"endlinecolor\": \"#2a3f5f\", \"gridcolor\": \"white\", \"linecolor\": \"white\", \"minorgridcolor\": \"white\", \"startlinecolor\": \"#2a3f5f\"}, \"type\": \"carpet\"}], \"choropleth\": [{\"colorbar\": {\"outlinewidth\": 0, \"ticks\": \"\"}, \"type\": \"choropleth\"}], \"contour\": [{\"colorbar\": {\"outlinewidth\": 0, \"ticks\": \"\"}, \"colorscale\": [[0.0, \"#0d0887\"], [0.1111111111111111, \"#46039f\"], [0.2222222222222222, \"#7201a8\"], [0.3333333333333333, \"#9c179e\"], [0.4444444444444444, \"#bd3786\"], [0.5555555555555556, \"#d8576b\"], [0.6666666666666666, \"#ed7953\"], [0.7777777777777778, \"#fb9f3a\"], [0.8888888888888888, \"#fdca26\"], [1.0, \"#f0f921\"]], \"type\": \"contour\"}], \"contourcarpet\": [{\"colorbar\": {\"outlinewidth\": 0, \"ticks\": \"\"}, \"type\": \"contourcarpet\"}], \"heatmap\": [{\"colorbar\": {\"outlinewidth\": 0, \"ticks\": \"\"}, \"colorscale\": [[0.0, \"#0d0887\"], [0.1111111111111111, \"#46039f\"], [0.2222222222222222, \"#7201a8\"], [0.3333333333333333, \"#9c179e\"], [0.4444444444444444, \"#bd3786\"], [0.5555555555555556, \"#d8576b\"], [0.6666666666666666, \"#ed7953\"], [0.7777777777777778, \"#fb9f3a\"], [0.8888888888888888, \"#fdca26\"], [1.0, \"#f0f921\"]], \"type\": \"heatmap\"}], \"heatmapgl\": [{\"colorbar\": {\"outlinewidth\": 0, \"ticks\": \"\"}, \"colorscale\": [[0.0, \"#0d0887\"], [0.1111111111111111, \"#46039f\"], [0.2222222222222222, \"#7201a8\"], [0.3333333333333333, \"#9c179e\"], [0.4444444444444444, \"#bd3786\"], [0.5555555555555556, \"#d8576b\"], [0.6666666666666666, \"#ed7953\"], [0.7777777777777778, \"#fb9f3a\"], [0.8888888888888888, \"#fdca26\"], [1.0, \"#f0f921\"]], \"type\": \"heatmapgl\"}], \"histogram\": [{\"marker\": {\"colorbar\": {\"outlinewidth\": 0, \"ticks\": \"\"}}, \"type\": \"histogram\"}], \"histogram2d\": [{\"colorbar\": {\"outlinewidth\": 0, \"ticks\": \"\"}, \"colorscale\": [[0.0, \"#0d0887\"], [0.1111111111111111, \"#46039f\"], [0.2222222222222222, \"#7201a8\"], [0.3333333333333333, \"#9c179e\"], [0.4444444444444444, \"#bd3786\"], [0.5555555555555556, \"#d8576b\"], [0.6666666666666666, \"#ed7953\"], [0.7777777777777778, \"#fb9f3a\"], [0.8888888888888888, \"#fdca26\"], [1.0, \"#f0f921\"]], \"type\": \"histogram2d\"}], \"histogram2dcontour\": [{\"colorbar\": {\"outlinewidth\": 0, \"ticks\": \"\"}, \"colorscale\": [[0.0, \"#0d0887\"], [0.1111111111111111, \"#46039f\"], [0.2222222222222222, \"#7201a8\"], [0.3333333333333333, \"#9c179e\"], [0.4444444444444444, \"#bd3786\"], [0.5555555555555556, \"#d8576b\"], [0.6666666666666666, \"#ed7953\"], [0.7777777777777778, \"#fb9f3a\"], [0.8888888888888888, \"#fdca26\"], [1.0, \"#f0f921\"]], \"type\": \"histogram2dcontour\"}], \"mesh3d\": [{\"colorbar\": {\"outlinewidth\": 0, \"ticks\": \"\"}, \"type\": \"mesh3d\"}], \"parcoords\": [{\"line\": {\"colorbar\": {\"outlinewidth\": 0, \"ticks\": \"\"}}, \"type\": \"parcoords\"}], \"pie\": [{\"automargin\": true, \"type\": \"pie\"}], \"scatter\": [{\"marker\": {\"colorbar\": {\"outlinewidth\": 0, \"ticks\": \"\"}}, \"type\": \"scatter\"}], \"scatter3d\": [{\"line\": {\"colorbar\": {\"outlinewidth\": 0, \"ticks\": \"\"}}, \"marker\": {\"colorbar\": {\"outlinewidth\": 0, \"ticks\": \"\"}}, \"type\": \"scatter3d\"}], \"scattercarpet\": [{\"marker\": {\"colorbar\": {\"outlinewidth\": 0, \"ticks\": \"\"}}, \"type\": \"scattercarpet\"}], \"scattergeo\": [{\"marker\": {\"colorbar\": {\"outlinewidth\": 0, \"ticks\": \"\"}}, \"type\": \"scattergeo\"}], \"scattergl\": [{\"marker\": {\"colorbar\": {\"outlinewidth\": 0, \"ticks\": \"\"}}, \"type\": \"scattergl\"}], \"scattermapbox\": [{\"marker\": {\"colorbar\": {\"outlinewidth\": 0, \"ticks\": \"\"}}, \"type\": \"scattermapbox\"}], \"scatterpolar\": [{\"marker\": {\"colorbar\": {\"outlinewidth\": 0, \"ticks\": \"\"}}, \"type\": \"scatterpolar\"}], \"scatterpolargl\": [{\"marker\": {\"colorbar\": {\"outlinewidth\": 0, \"ticks\": \"\"}}, \"type\": \"scatterpolargl\"}], \"scatterternary\": [{\"marker\": {\"colorbar\": {\"outlinewidth\": 0, \"ticks\": \"\"}}, \"type\": \"scatterternary\"}], \"surface\": [{\"colorbar\": {\"outlinewidth\": 0, \"ticks\": \"\"}, \"colorscale\": [[0.0, \"#0d0887\"], [0.1111111111111111, \"#46039f\"], [0.2222222222222222, \"#7201a8\"], [0.3333333333333333, \"#9c179e\"], [0.4444444444444444, \"#bd3786\"], [0.5555555555555556, \"#d8576b\"], [0.6666666666666666, \"#ed7953\"], [0.7777777777777778, \"#fb9f3a\"], [0.8888888888888888, \"#fdca26\"], [1.0, \"#f0f921\"]], \"type\": \"surface\"}], \"table\": [{\"cells\": {\"fill\": {\"color\": \"#EBF0F8\"}, \"line\": {\"color\": \"white\"}}, \"header\": {\"fill\": {\"color\": \"#C8D4E3\"}, \"line\": {\"color\": \"white\"}}, \"type\": \"table\"}]}, \"layout\": {\"annotationdefaults\": {\"arrowcolor\": \"#2a3f5f\", \"arrowhead\": 0, \"arrowwidth\": 1}, \"coloraxis\": {\"colorbar\": {\"outlinewidth\": 0, \"ticks\": \"\"}}, \"colorscale\": {\"diverging\": [[0, \"#8e0152\"], [0.1, \"#c51b7d\"], [0.2, \"#de77ae\"], [0.3, \"#f1b6da\"], [0.4, \"#fde0ef\"], [0.5, \"#f7f7f7\"], [0.6, \"#e6f5d0\"], [0.7, \"#b8e186\"], [0.8, \"#7fbc41\"], [0.9, \"#4d9221\"], [1, \"#276419\"]], \"sequential\": [[0.0, \"#0d0887\"], [0.1111111111111111, \"#46039f\"], [0.2222222222222222, \"#7201a8\"], [0.3333333333333333, \"#9c179e\"], [0.4444444444444444, \"#bd3786\"], [0.5555555555555556, \"#d8576b\"], [0.6666666666666666, \"#ed7953\"], [0.7777777777777778, \"#fb9f3a\"], [0.8888888888888888, \"#fdca26\"], [1.0, \"#f0f921\"]], \"sequentialminus\": [[0.0, \"#0d0887\"], [0.1111111111111111, \"#46039f\"], [0.2222222222222222, \"#7201a8\"], [0.3333333333333333, \"#9c179e\"], [0.4444444444444444, \"#bd3786\"], [0.5555555555555556, \"#d8576b\"], [0.6666666666666666, \"#ed7953\"], [0.7777777777777778, \"#fb9f3a\"], [0.8888888888888888, \"#fdca26\"], [1.0, \"#f0f921\"]]}, \"colorway\": [\"#636efa\", \"#EF553B\", \"#00cc96\", \"#ab63fa\", \"#FFA15A\", \"#19d3f3\", \"#FF6692\", \"#B6E880\", \"#FF97FF\", \"#FECB52\"], \"font\": {\"color\": \"#2a3f5f\"}, \"geo\": {\"bgcolor\": \"white\", \"lakecolor\": \"white\", \"landcolor\": \"#E5ECF6\", \"showlakes\": true, \"showland\": true, \"subunitcolor\": \"white\"}, \"hoverlabel\": {\"align\": \"left\"}, \"hovermode\": \"closest\", \"mapbox\": {\"style\": \"light\"}, \"paper_bgcolor\": \"white\", \"plot_bgcolor\": \"#E5ECF6\", \"polar\": {\"angularaxis\": {\"gridcolor\": \"white\", \"linecolor\": \"white\", \"ticks\": \"\"}, \"bgcolor\": \"#E5ECF6\", \"radialaxis\": {\"gridcolor\": \"white\", \"linecolor\": \"white\", \"ticks\": \"\"}}, \"scene\": {\"xaxis\": {\"backgroundcolor\": \"#E5ECF6\", \"gridcolor\": \"white\", \"gridwidth\": 2, \"linecolor\": \"white\", \"showbackground\": true, \"ticks\": \"\", \"zerolinecolor\": \"white\"}, \"yaxis\": {\"backgroundcolor\": \"#E5ECF6\", \"gridcolor\": \"white\", \"gridwidth\": 2, \"linecolor\": \"white\", \"showbackground\": true, \"ticks\": \"\", \"zerolinecolor\": \"white\"}, \"zaxis\": {\"backgroundcolor\": \"#E5ECF6\", \"gridcolor\": \"white\", \"gridwidth\": 2, \"linecolor\": \"white\", \"showbackground\": true, \"ticks\": \"\", \"zerolinecolor\": \"white\"}}, \"shapedefaults\": {\"line\": {\"color\": \"#2a3f5f\"}}, \"ternary\": {\"aaxis\": {\"gridcolor\": \"white\", \"linecolor\": \"white\", \"ticks\": \"\"}, \"baxis\": {\"gridcolor\": \"white\", \"linecolor\": \"white\", \"ticks\": \"\"}, \"bgcolor\": \"#E5ECF6\", \"caxis\": {\"gridcolor\": \"white\", \"linecolor\": \"white\", \"ticks\": \"\"}}, \"title\": {\"x\": 0.05}, \"xaxis\": {\"automargin\": true, \"gridcolor\": \"white\", \"linecolor\": \"white\", \"ticks\": \"\", \"title\": {\"standoff\": 15}, \"zerolinecolor\": \"white\", \"zerolinewidth\": 2}, \"yaxis\": {\"automargin\": true, \"gridcolor\": \"white\", \"linecolor\": \"white\", \"ticks\": \"\", \"title\": {\"standoff\": 15}, \"zerolinecolor\": \"white\", \"zerolinewidth\": 2}}}, \"title\": {\"text\": \"Implied Volatility Surface on 10/12/2017 (MM/DD/YYYY)\"}, \"width\": 800},\n",
              "                        {\"responsive\": true}\n",
              "                    ).then(function(){\n",
              "                            \n",
              "var gd = document.getElementById('95eb32dc-434c-471c-9dfb-72b4f4cc82e3');\n",
              "var x = new MutationObserver(function (mutations, observer) {{\n",
              "        var display = window.getComputedStyle(gd).display;\n",
              "        if (!display || display === 'none') {{\n",
              "            console.log([gd, 'removed!']);\n",
              "            Plotly.purge(gd);\n",
              "            observer.disconnect();\n",
              "        }}\n",
              "}});\n",
              "\n",
              "// Listen for the removal of the full notebook cells\n",
              "var notebookContainer = gd.closest('#notebook-container');\n",
              "if (notebookContainer) {{\n",
              "    x.observe(notebookContainer, {childList: true});\n",
              "}}\n",
              "\n",
              "// Listen for the clearing of the current output cell\n",
              "var outputEl = gd.closest('.output');\n",
              "if (outputEl) {{\n",
              "    x.observe(outputEl, {childList: true});\n",
              "}}\n",
              "\n",
              "                        })\n",
              "                };\n",
              "                \n",
              "            </script>\n",
              "        </div>\n",
              "</body>\n",
              "</html>"
            ]
          },
          "metadata": {}
        }
      ],
      "source": [
        "display_day(dates,surfaces,200) #the third argument is the day"
      ]
    },
    {
      "cell_type": "code",
      "source": [
        "def show_time_series(surfaces,tenor_i=0,moneyness_i=0):\n",
        "    plt.plot(surfaces[:,tenor_i,moneyness_i]) #first coordinate is date, second is tenor, third is Moneyness\n",
        "    plt.title(\"Tenor: {}, Moneyness: {}\".format(tenor_axis[tenor_i],moneyness_axis[moneyness_i]))\n",
        "    plt.xlabel(\"Day Number\")\n",
        "    plt.ylabel(\"Implied Volatility\")\n",
        "    plt.show()"
      ],
      "metadata": {
        "id": "_itIAbiUJ-px"
      },
      "execution_count": 21,
      "outputs": []
    },
    {
      "cell_type": "code",
      "execution_count": 22,
      "metadata": {
        "colab": {
          "base_uri": "https://localhost:8080/",
          "height": 851
        },
        "id": "lSuI7TMi0OGG",
        "outputId": "cb6f5361-bb57-4bdd-db6b-06661e43f2eb"
      },
      "outputs": [
        {
          "output_type": "display_data",
          "data": {
            "image/png": "[encoded data removed]",
            "text/plain": [
              "<Figure size 432x288 with 1 Axes>"
            ]
          },
          "metadata": {
            "needs_background": "light"
          }
        },
        {
          "output_type": "display_data",
          "data": {
            "image/png": "[encoded data removed]",
            "text/plain": [
              "<Figure size 432x288 with 1 Axes>"
            ]
          },
          "metadata": {
            "needs_background": "light"
          }
        },
        {
          "output_type": "display_data",
          "data": {
            "image/png": "[encoded data removed]",
            "text/plain": [
              "<Figure size 432x288 with 1 Axes>"
            ]
          },
          "metadata": {
            "needs_background": "light"
          }
        }
      ],
      "source": [
        "show_time_series(surfaces,tenor_i=0,moneyness_i=0)\n",
        "show_time_series(surfaces,tenor_i=0,moneyness_i=9)\n",
        "show_time_series(surfaces,tenor_i=0,moneyness_i=18)"
      ]
    },
    {
      "cell_type": "markdown",
      "source": [
        "It can be observed that the implied volatility is lowest when moneyness is closer to 1 (the smile curve being proven)"
      ],
      "metadata": {
        "id": "rjTHbECLK51n"
      }
    },
    {
      "cell_type": "code",
      "execution_count": 23,
      "metadata": {
        "colab": {
          "base_uri": "https://localhost:8080/",
          "height": 851
        },
        "id": "ysKmPXadznjw",
        "outputId": "11546fb0-f4f0-4164-a714-37a732a8c65c"
      },
      "outputs": [
        {
          "output_type": "display_data",
          "data": {
            "image/png": "[encoded data removed]",
            "text/plain": [
              "<Figure size 432x288 with 1 Axes>"
            ]
          },
          "metadata": {
            "needs_background": "light"
          }
        },
        {
          "output_type": "display_data",
          "data": {
            "image/png": "[encoded data removed]",
            "text/plain": [
              "<Figure size 432x288 with 1 Axes>"
            ]
          },
          "metadata": {
            "needs_background": "light"
          }
        },
        {
          "output_type": "display_data",
          "data": {
            "image/png": "[encoded data removed]",
            "text/plain": [
              "<Figure size 432x288 with 1 Axes>"
            ]
          },
          "metadata": {
            "needs_background": "light"
          }
        }
      ],
      "source": [
        "show_time_series(surfaces,tenor_i=0,moneyness_i=9)\n",
        "show_time_series(surfaces,tenor_i=9,moneyness_i=9)\n",
        "show_time_series(surfaces,tenor_i=18,moneyness_i=9)"
      ]
    },
    {
      "cell_type": "markdown",
      "metadata": {
        "id": "7ammhQG0n_3a"
      },
      "source": [
        "# **Forecasting**"
      ]
    },
    {
      "cell_type": "markdown",
      "source": [
        "### **Method 1 - ARIMA**"
      ],
      "metadata": {
        "id": "4MFJPyHfMIPK"
      }
    },
    {
      "cell_type": "code",
      "execution_count": 50,
      "metadata": {
        "id": "NxoGeRnr0iNB"
      },
      "outputs": [],
      "source": [
        "def get_pred(train_data,model,forecast_len=60,start_day=-1):\n",
        "    model_fit = model.fit()\n",
        "    last_day = len(train_data)\n",
        "    if start_day!=-1:\n",
        "        yhat = model_fit.predict(start_day,last_day+forecast_len-1)\n",
        "    else:\n",
        "        yhat = model_fit.predict(last_day,last_day+forecast_len-1)\n",
        "    return yhat\n",
        "\n",
        "def get_rmse(test_data,yhat):\n",
        "    return mean_squared_error(test_data,yhat,squared=False)\n",
        "    \n",
        "def plot_pred(train_data,test_data,yhat,tenor_i,moneyness_i,forecast_len=60,start_day=-1):\n",
        "    last_day = len(train_data)\n",
        "    if start_day==-1:\n",
        "        start_day = last_day\n",
        "    xhat = range(start_day,last_day+forecast_len,1)\n",
        "    full_data = list(train_data)+list(test_data)\n",
        "    plt.plot(full_data)\n",
        "    plt.plot(xhat,yhat,color='r')\n",
        "    plt.title(\"Tenor: {}, Moneyness: {}\".format(tenor_axis[tenor_i],moneyness_axis[moneyness_i]))\n",
        "    plt.legend(['Actual','Predicted'])\n",
        "    plt.show()"
      ]
    },
    {
      "cell_type": "code",
      "execution_count": 46,
      "metadata": {
        "id": "gAMoMc3hoCnM"
      },
      "outputs": [],
      "source": [
        "from statsmodels.tsa.ar_model import AutoReg\n",
        "from statsmodels.tsa.arima.model import ARIMA\n",
        "from statsmodels.tsa.statespace.sarimax import SARIMAX\n",
        "from sklearn.metrics import mean_squared_error\n",
        "from itertools import product"
      ]
    },
    {
      "cell_type": "markdown",
      "source": [
        "**A Simple Autoregression Model**"
      ],
      "metadata": {
        "id": "ib9RnPX6MWDI"
      }
    },
    {
      "cell_type": "code",
      "execution_count": 51,
      "metadata": {
        "colab": {
          "base_uri": "https://localhost:8080/",
          "height": 281
        },
        "id": "49ohC5Sd2PCI",
        "outputId": "2e1db8de-d6fe-4f36-9ed4-2e37e8df5291"
      },
      "outputs": [
        {
          "output_type": "display_data",
          "data": {
            "image/png": "[encoded data removed]",
            "text/plain": [
              "<Figure size 432x288 with 1 Axes>"
            ]
          },
          "metadata": {
            "needs_background": "light"
          }
        }
      ],
      "source": [
        "forecast_len = 60\n",
        "test_len = 60\n",
        "tenor_i = 10\n",
        "moneyness_i =0\n",
        "start_day=-1\n",
        "train_data = surfaces[:-test_len,tenor_i,moneyness_i]\n",
        "test_data = surfaces[-test_len:,tenor_i,moneyness_i]\n",
        "\n",
        "\n",
        "model = AutoReg(train_data, lags=200)\n",
        "yhat = get_pred(train_data,model,forecast_len=forecast_len,start_day=start_day)\n",
        "\n",
        "plot_pred(train_data,test_data,yhat,tenor_i,moneyness_i,forecast_len = forecast_len,start_day=start_day)"
      ]
    },
    {
      "cell_type": "code",
      "source": [
        ""
      ],
      "metadata": {
        "id": "lPw2f6GOUxkW"
      },
      "execution_count": null,
      "outputs": []
    },
    {
      "cell_type": "markdown",
      "source": [
        "**ARIMA - AutoRegressive Integrated Moving Average**"
      ],
      "metadata": {
        "id": "bw8dtztlUyD0"
      }
    },
    {
      "cell_type": "code",
      "execution_count": 54,
      "metadata": {
        "colab": {
          "base_uri": "https://localhost:8080/",
          "height": 350
        },
        "id": "6FyaZsOF4SmG",
        "outputId": "448c1e3b-b217-4b73-f88d-a95b123c210d"
      },
      "outputs": [
        {
          "output_type": "stream",
          "name": "stderr",
          "text": [
            "/usr/local/lib/python3.7/dist-packages/statsmodels/base/model.py:606: ConvergenceWarning:\n",
            "\n",
            "Maximum Likelihood optimization failed to converge. Check mle_retvals\n",
            "\n"
          ]
        },
        {
          "output_type": "display_data",
          "data": {
            "image/png": "[encoded data removed]",
            "text/plain": [
              "<Figure size 432x288 with 1 Axes>"
            ]
          },
          "metadata": {
            "needs_background": "light"
          }
        }
      ],
      "source": [
        "forecast_len = 100\n",
        "start_day=-1\n",
        "\n",
        "test_len = 60\n",
        "tenor_i = 0\n",
        "moneyness_i =0\n",
        "\n",
        "train_data = surfaces[:-forecast_len,tenor_i,moneyness_i]\n",
        "test_data = surfaces[-forecast_len:,tenor_i,moneyness_i]\n",
        "model = ARIMA(train_data, order=(1, 0, 2))\n",
        "\n",
        "yhat = get_pred(train_data,model,forecast_len=forecast_len,start_day=start_day)\n",
        "\n",
        "plot_pred(train_data,test_data,yhat,tenor_i,moneyness_i,forecast_len = forecast_len,start_day=start_day)"
      ]
    },
    {
      "cell_type": "code",
      "execution_count": 61,
      "metadata": {
        "id": "bHy02BhtDoEs"
      },
      "outputs": [],
      "source": [
        "hyperparameters= list(product(range(10),range(0),range(0)))"
      ]
    },
    {
      "cell_type": "code",
      "execution_count": 57,
      "metadata": {
        "id": "ZIuhvTkLMQ7y"
      },
      "outputs": [],
      "source": [
        "results = {}\n",
        "forecast_len = 30\n",
        "tenor_i = 10\n",
        "moneyness_i =10\n",
        "test_len=60\n",
        "\n",
        "train_data = surfaces[:-test_len,tenor_i,moneyness_i]\n",
        "test_data = surfaces[-test_len:,tenor_i,moneyness_i]"
      ]
    },
    {
      "cell_type": "code",
      "execution_count": 59,
      "metadata": {
        "id": "GaxqGygJBkm5"
      },
      "outputs": [],
      "source": [
        "import warnings\n",
        "warnings.filterwarnings(\"ignore\")\n",
        "for hyperparameter in hyperparameters:\n",
        "    model = ARIMA(train_data, order=hyperparameter)\n",
        "    yhat = get_pred(train_data,test_data,model,forecast_len=forecast_len)\n",
        "    rmse = get_rmse(test_data,yhat)\n",
        "    print(hyperparameter,\" : \",rmse)\n",
        "    results[hyperparameter]=rmse"
      ]
    },
    {
      "cell_type": "code",
      "execution_count": null,
      "metadata": {
        "colab": {
          "base_uri": "https://localhost:8080/"
        },
        "id": "ylFVH718MW_u",
        "outputId": "7c98f183-4939-4b64-f221-2f90d90949d1"
      },
      "outputs": [
        {
          "data": {
            "text/plain": [
              "{(0, 0, 0): 0.04405586639337829,\n",
              " (0, 0, 1): 0.04300130877475536,\n",
              " (0, 0, 2): 0.04139148781122553,\n",
              " (0, 1, 0): 0.023024205935302675,\n",
              " (0, 1, 1): 0.022816889418840264,\n",
              " (0, 1, 2): 0.02234943034954023,\n",
              " (0, 2, 0): 0.10611631357597062,\n",
              " (0, 2, 1): 0.0518012460036137,\n",
              " (0, 2, 2): 0.05465450156575279,\n",
              " (1, 0, 0): 0.021222950485151378,\n",
              " (1, 0, 1): 0.021446598039123094,\n",
              " (1, 0, 2): 0.019808956528900447,\n",
              " (1, 1, 0): 0.022823282559874054,\n",
              " (1, 1, 1): 0.022812396829806514,\n",
              " (1, 1, 2): 0.022542513881293406,\n",
              " (1, 2, 0): 0.03522132549470811,\n",
              " (1, 2, 1): 0.03397709540352012,\n",
              " (1, 2, 2): 0.03530707309979656,\n",
              " (2, 0, 0): 0.021597252351365576,\n",
              " (2, 0, 1): 0.02098466078231851,\n",
              " (2, 0, 2): 0.02054053955173464,\n",
              " (2, 1, 0): 0.02271673958235,\n",
              " (2, 1, 1): 0.025408108580821726,\n",
              " (2, 1, 2): 0.022128759631438105,\n",
              " (2, 2, 0): 0.03723246014566047,\n",
              " (2, 2, 1): 0.04857725048301318,\n",
              " (2, 2, 2): 0.10610124980234556}"
            ]
          },
          "execution_count": 58,
          "metadata": {},
          "output_type": "execute_result"
        }
      ],
      "source": [
        "results"
      ]
    },
    {
      "cell_type": "markdown",
      "source": [
        "**SARIMAX - Seasonal Auto-Regressive Integrated Moving Average with eXogenous factors**"
      ],
      "metadata": {
        "id": "OJmhUEuIU7zs"
      }
    },
    {
      "cell_type": "code",
      "source": [
        "forecast_len = 100\n",
        "start_day=-1\n",
        "\n",
        "test_len = 60\n",
        "tenor_i = 0\n",
        "moneyness_i =0\n",
        "\n",
        "train_data = surfaces[:-forecast_len,tenor_i,moneyness_i]\n",
        "test_data = surfaces[-forecast_len:,tenor_i,moneyness_i]\n",
        "model = SARIMAX(train_data, order=(1, 0, 2),seasonal_order=(1, 1, 0, 12))\n",
        "\n",
        "yhat = get_pred(train_data,model,forecast_len=forecast_len,start_day=start_day)\n",
        "\n",
        "plot_pred(train_data,test_data,yhat,tenor_i,moneyness_i,forecast_len = forecast_len,start_day=start_day)"
      ],
      "metadata": {
        "colab": {
          "base_uri": "https://localhost:8080/",
          "height": 281
        },
        "id": "YmNjfIaxN-zH",
        "outputId": "03474fce-9af6-408e-ebf2-6fbe3166d3f2"
      },
      "execution_count": 64,
      "outputs": [
        {
          "output_type": "display_data",
          "data": {
            "image/png": "[encoded data removed]",
            "text/plain": [
              "<Figure size 432x288 with 1 Axes>"
            ]
          },
          "metadata": {
            "needs_background": "light"
          }
        }
      ]
    },
    {
      "cell_type": "markdown",
      "source": [
        "### **Method 2 - Multivariate stacked LSTM Model**"
      ],
      "metadata": {
        "id": "u3Gg28xfFyB2"
      }
    },
    {
      "cell_type": "code",
      "source": [
        "import tensorflow as tf\n",
        "import matplotlib.pyplot as plt"
      ],
      "metadata": {
        "id": "HoxjVqhfNxlX"
      },
      "execution_count": 24,
      "outputs": []
    },
    {
      "cell_type": "code",
      "source": [
        "surfaces_flat = surfaces.reshape(718,361) #consists of flattened vectors over time"
      ],
      "metadata": {
        "id": "51a0fGH1F2zW"
      },
      "execution_count": 25,
      "outputs": []
    },
    {
      "cell_type": "code",
      "source": [
        "train,test = surfaces_flat[:-210,:],surfaces_flat[-210:,:]"
      ],
      "metadata": {
        "id": "xIy92h74H0hZ"
      },
      "execution_count": 26,
      "outputs": []
    },
    {
      "cell_type": "code",
      "source": [
        "def split_series(series, n_past, n_future):\n",
        "  #\n",
        "  # n_past ==> no of past observations\n",
        "  #\n",
        "  # n_future ==> no of future observations \n",
        "  #\n",
        "  X, y = list(), list()\n",
        "  for window_start in range(len(series)):\n",
        "    past_end = window_start + n_past\n",
        "    future_end = past_end + n_future\n",
        "    if future_end > len(series):\n",
        "      break\n",
        "    # slicing the past and future parts of the window\n",
        "    past, future = series[window_start:past_end, :], series[past_end:future_end, :]\n",
        "    X.append(past)\n",
        "    y.append(future)\n",
        "  return np.array(X), np.array(y)"
      ],
      "metadata": {
        "id": "NK3r-z0PG5kV"
      },
      "execution_count": 27,
      "outputs": []
    },
    {
      "cell_type": "markdown",
      "source": [
        "**Hyperparameter Tuning**"
      ],
      "metadata": {
        "id": "JocTgZSCfvs7"
      }
    },
    {
      "cell_type": "code",
      "source": [
        "models = []\n",
        "history_models = []\n",
        "rmse_models = []\n",
        "hyperparameters = []\n",
        "lstm_cells_list = [100]\n",
        "n_past_list = [90,120,]\n",
        "n_future = 60\n",
        "n_features=361\n",
        "x_ans_list = []\n",
        "X_train_list = []\n",
        "X_test_list = []\n",
        "y_train_list = []\n",
        "y_test_list = []\n",
        "for lstm_cells in lstm_cells_list:\n",
        "    for n_past in n_past_list:\n",
        "        hyperparameter = {\"lstm_cells\":lstm_cells,\"n_past\":n_past}\n",
        "\n",
        "        X_train, y_train = split_series(train,n_past, n_future)\n",
        "        X_test, y_test = split_series(test,n_past, n_future)\n",
        "        x_ans_list.append(X_test[-1:])\n",
        "        X_train_list.append(X_train)\n",
        "        X_test_list.append(X_test)\n",
        "        y_train_list.append(y_train)\n",
        "        y_test_list.append(y_test)\n",
        "\n",
        "        encoder_inputs = tf.keras.layers.Input(shape=(n_past, n_features))\n",
        "        encoder_l1 = tf.keras.layers.LSTM(lstm_cells, return_state=True)\n",
        "        encoder_outputs1 = encoder_l1(encoder_inputs)\n",
        "\n",
        "        encoder_states1 = encoder_outputs1[1:]\n",
        "\n",
        "        #\n",
        "        decoder_inputs = tf.keras.layers.RepeatVector(n_future)(encoder_outputs1[0])\n",
        "\n",
        "        #\n",
        "        decoder_l1 = tf.keras.layers.LSTM(lstm_cells, return_sequences=True)(decoder_inputs,initial_state = encoder_states1)\n",
        "        decoder_outputs1 = tf.keras.layers.TimeDistributed(tf.keras.layers.Dense(n_features))(decoder_l1)\n",
        "\n",
        "        #\n",
        "        model = tf.keras.models.Model(encoder_inputs,decoder_outputs1)\n",
        "\n",
        "        #\n",
        "        model.summary()\n",
        "\n",
        "        loss_fn = tf.keras.losses.MeanSquaredError()\n",
        "        metric_fn = tf.keras.metrics.RootMeanSquaredError()\n",
        "        callback = tf.keras.callbacks.EarlyStopping(monitor='val_loss', patience=5)\n",
        "\n",
        "\n",
        "        model.compile(optimizer=tf.keras.optimizers.Adam(), loss=tf.keras.losses.MeanSquaredError(),metrics=[metric_fn])\n",
        "        history=model.fit(X_train,y_train,epochs=30,validation_data=(X_test,y_test),batch_size=32,verbose=2,callbacks=[callback])\n",
        "        _, rmse = model.evaluate(X_test,y_test)\n",
        "\n",
        "        models.append(model)\n",
        "        history_models.append(history)\n",
        "        rmse_models.append(rmse)\n",
        "        hyperparameters.append([hyperparameter,rmse])\n",
        "        X_train_shapes.append(X_train.shape)\n",
        "\n",
        "        X_test_shapes.append(X_test.shape)"
      ],
      "metadata": {
        "colab": {
          "base_uri": "https://localhost:8080/"
        },
        "id": "h0RFA69eXJ-x",
        "outputId": "790f5bb4-75c2-40dc-a45b-3000cf2c9d5a"
      },
      "execution_count": 205,
      "outputs": [
        {
          "output_type": "stream",
          "name": "stdout",
          "text": [
            "Model: \"model_50\"\n",
            "__________________________________________________________________________________________________\n",
            " Layer (type)                   Output Shape         Param #     Connected to                     \n",
            "==================================================================================================\n",
            " input_51 (InputLayer)          [(None, 90, 361)]    0           []                               \n",
            "                                                                                                  \n",
            " lstm_100 (LSTM)                [(None, 100),        184800      ['input_51[0][0]']               \n",
            "                                 (None, 100),                                                     \n",
            "                                 (None, 100)]                                                     \n",
            "                                                                                                  \n",
            " repeat_vector_50 (RepeatVector  (None, 120, 100)    0           ['lstm_100[0][0]']               \n",
            " )                                                                                                \n",
            "                                                                                                  \n",
            " lstm_101 (LSTM)                (None, 120, 100)     80400       ['repeat_vector_50[0][0]',       \n",
            "                                                                  'lstm_100[0][1]',               \n",
            "                                                                  'lstm_100[0][2]']               \n",
            "                                                                                                  \n",
            " time_distributed_50 (TimeDistr  (None, 120, 361)    36461       ['lstm_101[0][0]']               \n",
            " ibuted)                                                                                          \n",
            "                                                                                                  \n",
            "==================================================================================================\n",
            "Total params: 301,661\n",
            "Trainable params: 301,661\n",
            "Non-trainable params: 0\n",
            "__________________________________________________________________________________________________\n",
            "Epoch 1/30\n",
            "10/10 - 34s - loss: 0.0283 - root_mean_squared_error: 0.1681 - val_loss: 0.0151 - val_root_mean_squared_error: 0.1228 - 34s/epoch - 3s/step\n",
            "Epoch 2/30\n",
            "10/10 - 1s - loss: 0.0044 - root_mean_squared_error: 0.0661 - val_loss: 0.0031 - val_root_mean_squared_error: 0.0558 - 608ms/epoch - 61ms/step\n",
            "Epoch 3/30\n",
            "10/10 - 1s - loss: 9.9155e-04 - root_mean_squared_error: 0.0315 - val_loss: 0.0032 - val_root_mean_squared_error: 0.0569 - 608ms/epoch - 61ms/step\n",
            "Epoch 4/30\n",
            "10/10 - 1s - loss: 5.3543e-04 - root_mean_squared_error: 0.0231 - val_loss: 0.0027 - val_root_mean_squared_error: 0.0523 - 609ms/epoch - 61ms/step\n",
            "Epoch 5/30\n",
            "10/10 - 1s - loss: 2.9053e-04 - root_mean_squared_error: 0.0170 - val_loss: 0.0029 - val_root_mean_squared_error: 0.0540 - 613ms/epoch - 61ms/step\n",
            "Epoch 6/30\n",
            "10/10 - 1s - loss: 2.3725e-04 - root_mean_squared_error: 0.0154 - val_loss: 0.0025 - val_root_mean_squared_error: 0.0497 - 617ms/epoch - 62ms/step\n",
            "Epoch 7/30\n",
            "10/10 - 1s - loss: 1.9760e-04 - root_mean_squared_error: 0.0141 - val_loss: 0.0025 - val_root_mean_squared_error: 0.0496 - 616ms/epoch - 62ms/step\n",
            "Epoch 8/30\n",
            "10/10 - 1s - loss: 1.8555e-04 - root_mean_squared_error: 0.0136 - val_loss: 0.0026 - val_root_mean_squared_error: 0.0512 - 616ms/epoch - 62ms/step\n",
            "Epoch 9/30\n",
            "10/10 - 1s - loss: 1.6883e-04 - root_mean_squared_error: 0.0130 - val_loss: 0.0029 - val_root_mean_squared_error: 0.0534 - 607ms/epoch - 61ms/step\n",
            "Epoch 10/30\n",
            "10/10 - 1s - loss: 1.6377e-04 - root_mean_squared_error: 0.0128 - val_loss: 0.0026 - val_root_mean_squared_error: 0.0508 - 615ms/epoch - 61ms/step\n",
            "Epoch 11/30\n",
            "10/10 - 1s - loss: 1.5881e-04 - root_mean_squared_error: 0.0126 - val_loss: 0.0030 - val_root_mean_squared_error: 0.0547 - 617ms/epoch - 62ms/step\n",
            "Epoch 12/30\n",
            "10/10 - 1s - loss: 1.5650e-04 - root_mean_squared_error: 0.0125 - val_loss: 0.0027 - val_root_mean_squared_error: 0.0516 - 618ms/epoch - 62ms/step\n",
            "1/1 [==============================] - 0s 32ms/step - loss: 0.0027 - root_mean_squared_error: 0.0516\n"
          ]
        }
      ]
    },
    {
      "cell_type": "code",
      "source": [
        "sorted(hyperparameters,key = lambda x:x[1])"
      ],
      "metadata": {
        "colab": {
          "base_uri": "https://localhost:8080/"
        },
        "id": "axb3kDCLY-hp",
        "outputId": "0358a7fb-9819-4454-c122-86965db32fa0"
      },
      "execution_count": 194,
      "outputs": [
        {
          "output_type": "execute_result",
          "data": {
            "text/plain": [
              "[[{'lstm_cells': 100, 'n_past': 90}, 0.04618973284959793]]"
            ]
          },
          "metadata": {},
          "execution_count": 194
        }
      ]
    },
    {
      "cell_type": "code",
      "source": [
        "best_model_i = rmse_models.index(min(rmse_models))"
      ],
      "metadata": {
        "id": "s1u3LXMTfbKo"
      },
      "execution_count": 111,
      "outputs": []
    },
    {
      "cell_type": "markdown",
      "metadata": {
        "id": "oWlS8Rtfn7pH"
      },
      "source": [
        "## **Submission**"
      ]
    },
    {
      "cell_type": "code",
      "source": [
        "def get_final_df(model_i):\n",
        "    x_ans = x_ans_list[model_i]\n",
        "    best_model = models[model_i]\n",
        "    y_ans_1_60_361 = best_model.predict(x_ans)\n",
        "    y_ans = y_ans_1_60_361[0].reshape(n_future,19,19)\n",
        "\n",
        "    ans_surfaces = np.vstack(y_ans)\n",
        "    df_ans_sub = pd.DataFrame(ans_surfaces)\n",
        "    df_ans_ =  pd.concat([df_ans[['Date','Tenor']], df_ans_sub], axis=1)\n",
        "    df_ans_.columns = df_ans.columns\n",
        "\n",
        "    return df_ans_"
      ],
      "metadata": {
        "id": "MpWu3XWKdF8M"
      },
      "execution_count": 117,
      "outputs": []
    },
    {
      "cell_type": "code",
      "source": [
        "df_final = get_final_df(best_model_i)"
      ],
      "metadata": {
        "id": "P_cj1u7OcRGa"
      },
      "execution_count": 128,
      "outputs": []
    },
    {
      "cell_type": "code",
      "source": [
        "df_final"
      ],
      "metadata": {
        "colab": {
          "base_uri": "https://localhost:8080/",
          "height": 488
        },
        "id": "Ot4IgGqujpfe",
        "outputId": "cc0d98db-75cc-45ec-b184-3811dbb5a764"
      },
      "execution_count": 129,
      "outputs": [
        {
          "output_type": "execute_result",
          "data": {
            "text/html": [
              "\n",
              "  <div id=\"df-8b7a70a3-bbbf-4918-9ba3-87cf16496005\">\n",
              "    <div class=\"colab-df-container\">\n",
              "      <div>\n",
              "<style scoped>\n",
              "    .dataframe tbody tr th:only-of-type {\n",
              "        vertical-align: middle;\n",
              "    }\n",
              "\n",
              "    .dataframe tbody tr th {\n",
              "        vertical-align: top;\n",
              "    }\n",
              "\n",
              "    .dataframe thead th {\n",
              "        text-align: right;\n",
              "    }\n",
              "</style>\n",
              "<table border=\"1\" class=\"dataframe\">\n",
              "  <thead>\n",
              "    <tr style=\"text-align: right;\">\n",
              "      <th></th>\n",
              "      <th>Date</th>\n",
              "      <th>Tenor</th>\n",
              "      <th>0.1</th>\n",
              "      <th>0.2</th>\n",
              "      <th>0.3</th>\n",
              "      <th>0.4</th>\n",
              "      <th>0.5</th>\n",
              "      <th>0.6</th>\n",
              "      <th>0.7</th>\n",
              "      <th>0.8</th>\n",
              "      <th>0.9</th>\n",
              "      <th>1</th>\n",
              "      <th>1.1</th>\n",
              "      <th>1.2</th>\n",
              "      <th>1.3</th>\n",
              "      <th>1.4</th>\n",
              "      <th>1.5</th>\n",
              "      <th>1.6</th>\n",
              "      <th>1.7</th>\n",
              "      <th>1.8</th>\n",
              "      <th>1.9</th>\n",
              "    </tr>\n",
              "  </thead>\n",
              "  <tbody>\n",
              "    <tr>\n",
              "      <th>0</th>\n",
              "      <td>10/15/2019</td>\n",
              "      <td>2M</td>\n",
              "      <td>0.488703</td>\n",
              "      <td>0.463883</td>\n",
              "      <td>0.423393</td>\n",
              "      <td>0.380733</td>\n",
              "      <td>0.338492</td>\n",
              "      <td>0.279201</td>\n",
              "      <td>0.245926</td>\n",
              "      <td>0.206379</td>\n",
              "      <td>0.176898</td>\n",
              "      <td>0.160319</td>\n",
              "      <td>0.176599</td>\n",
              "      <td>0.193141</td>\n",
              "      <td>0.186734</td>\n",
              "      <td>0.186584</td>\n",
              "      <td>0.264800</td>\n",
              "      <td>0.243275</td>\n",
              "      <td>0.281949</td>\n",
              "      <td>0.281452</td>\n",
              "      <td>0.278104</td>\n",
              "    </tr>\n",
              "    <tr>\n",
              "      <th>1</th>\n",
              "      <td>10/15/2019</td>\n",
              "      <td>3M</td>\n",
              "      <td>0.447438</td>\n",
              "      <td>0.408509</td>\n",
              "      <td>0.320370</td>\n",
              "      <td>0.324349</td>\n",
              "      <td>0.306075</td>\n",
              "      <td>0.236687</td>\n",
              "      <td>0.206429</td>\n",
              "      <td>0.226920</td>\n",
              "      <td>0.213314</td>\n",
              "      <td>0.199839</td>\n",
              "      <td>0.166874</td>\n",
              "      <td>0.166158</td>\n",
              "      <td>0.202601</td>\n",
              "      <td>0.166484</td>\n",
              "      <td>0.215259</td>\n",
              "      <td>0.209475</td>\n",
              "      <td>0.260152</td>\n",
              "      <td>0.253235</td>\n",
              "      <td>0.277384</td>\n",
              "    </tr>\n",
              "    <tr>\n",
              "      <th>2</th>\n",
              "      <td>10/15/2019</td>\n",
              "      <td>6M</td>\n",
              "      <td>0.382343</td>\n",
              "      <td>0.370501</td>\n",
              "      <td>0.308091</td>\n",
              "      <td>0.283810</td>\n",
              "      <td>0.255573</td>\n",
              "      <td>0.257760</td>\n",
              "      <td>0.206072</td>\n",
              "      <td>0.153575</td>\n",
              "      <td>0.205909</td>\n",
              "      <td>0.193066</td>\n",
              "      <td>0.173825</td>\n",
              "      <td>0.156518</td>\n",
              "      <td>0.179790</td>\n",
              "      <td>0.129483</td>\n",
              "      <td>0.156892</td>\n",
              "      <td>0.186282</td>\n",
              "      <td>0.193026</td>\n",
              "      <td>0.210233</td>\n",
              "      <td>0.214113</td>\n",
              "    </tr>\n",
              "    <tr>\n",
              "      <th>3</th>\n",
              "      <td>10/15/2019</td>\n",
              "      <td>9M</td>\n",
              "      <td>0.369795</td>\n",
              "      <td>0.302297</td>\n",
              "      <td>0.352219</td>\n",
              "      <td>0.250728</td>\n",
              "      <td>0.241351</td>\n",
              "      <td>0.235781</td>\n",
              "      <td>0.217027</td>\n",
              "      <td>0.215578</td>\n",
              "      <td>0.197446</td>\n",
              "      <td>0.194788</td>\n",
              "      <td>0.193568</td>\n",
              "      <td>0.183182</td>\n",
              "      <td>0.143954</td>\n",
              "      <td>0.184255</td>\n",
              "      <td>0.194502</td>\n",
              "      <td>0.192435</td>\n",
              "      <td>0.162180</td>\n",
              "      <td>0.208210</td>\n",
              "      <td>0.192152</td>\n",
              "    </tr>\n",
              "    <tr>\n",
              "      <th>4</th>\n",
              "      <td>10/15/2019</td>\n",
              "      <td>1Y</td>\n",
              "      <td>0.327295</td>\n",
              "      <td>0.248208</td>\n",
              "      <td>0.288880</td>\n",
              "      <td>0.252608</td>\n",
              "      <td>0.227153</td>\n",
              "      <td>0.209642</td>\n",
              "      <td>0.189255</td>\n",
              "      <td>0.192293</td>\n",
              "      <td>0.191851</td>\n",
              "      <td>0.183732</td>\n",
              "      <td>0.188690</td>\n",
              "      <td>0.184482</td>\n",
              "      <td>0.163680</td>\n",
              "      <td>0.170924</td>\n",
              "      <td>0.174335</td>\n",
              "      <td>0.191865</td>\n",
              "      <td>0.175175</td>\n",
              "      <td>0.188962</td>\n",
              "      <td>0.167945</td>\n",
              "    </tr>\n",
              "    <tr>\n",
              "      <th>...</th>\n",
              "      <td>...</td>\n",
              "      <td>...</td>\n",
              "      <td>...</td>\n",
              "      <td>...</td>\n",
              "      <td>...</td>\n",
              "      <td>...</td>\n",
              "      <td>...</td>\n",
              "      <td>...</td>\n",
              "      <td>...</td>\n",
              "      <td>...</td>\n",
              "      <td>...</td>\n",
              "      <td>...</td>\n",
              "      <td>...</td>\n",
              "      <td>...</td>\n",
              "      <td>...</td>\n",
              "      <td>...</td>\n",
              "      <td>...</td>\n",
              "      <td>...</td>\n",
              "      <td>...</td>\n",
              "      <td>...</td>\n",
              "      <td>...</td>\n",
              "    </tr>\n",
              "    <tr>\n",
              "      <th>1135</th>\n",
              "      <td>1/6/2020</td>\n",
              "      <td>15Y</td>\n",
              "      <td>0.276310</td>\n",
              "      <td>0.250895</td>\n",
              "      <td>0.232176</td>\n",
              "      <td>0.210950</td>\n",
              "      <td>0.201681</td>\n",
              "      <td>0.187196</td>\n",
              "      <td>0.177363</td>\n",
              "      <td>0.168561</td>\n",
              "      <td>0.164472</td>\n",
              "      <td>0.153946</td>\n",
              "      <td>0.147570</td>\n",
              "      <td>0.144955</td>\n",
              "      <td>0.138380</td>\n",
              "      <td>0.136749</td>\n",
              "      <td>0.136724</td>\n",
              "      <td>0.137897</td>\n",
              "      <td>0.135432</td>\n",
              "      <td>0.135580</td>\n",
              "      <td>0.131940</td>\n",
              "    </tr>\n",
              "    <tr>\n",
              "      <th>1136</th>\n",
              "      <td>1/6/2020</td>\n",
              "      <td>20Y</td>\n",
              "      <td>0.251796</td>\n",
              "      <td>0.234413</td>\n",
              "      <td>0.212644</td>\n",
              "      <td>0.195908</td>\n",
              "      <td>0.182436</td>\n",
              "      <td>0.168054</td>\n",
              "      <td>0.160350</td>\n",
              "      <td>0.150206</td>\n",
              "      <td>0.151796</td>\n",
              "      <td>0.140454</td>\n",
              "      <td>0.134462</td>\n",
              "      <td>0.134670</td>\n",
              "      <td>0.128584</td>\n",
              "      <td>0.123494</td>\n",
              "      <td>0.125425</td>\n",
              "      <td>0.127482</td>\n",
              "      <td>0.122366</td>\n",
              "      <td>0.127657</td>\n",
              "      <td>0.129566</td>\n",
              "    </tr>\n",
              "    <tr>\n",
              "      <th>1137</th>\n",
              "      <td>1/6/2020</td>\n",
              "      <td>25Y</td>\n",
              "      <td>0.242032</td>\n",
              "      <td>0.220355</td>\n",
              "      <td>0.199897</td>\n",
              "      <td>0.189588</td>\n",
              "      <td>0.176393</td>\n",
              "      <td>0.162436</td>\n",
              "      <td>0.157419</td>\n",
              "      <td>0.147617</td>\n",
              "      <td>0.136800</td>\n",
              "      <td>0.139736</td>\n",
              "      <td>0.127776</td>\n",
              "      <td>0.121426</td>\n",
              "      <td>0.121266</td>\n",
              "      <td>0.118316</td>\n",
              "      <td>0.119510</td>\n",
              "      <td>0.122030</td>\n",
              "      <td>0.119772</td>\n",
              "      <td>0.121194</td>\n",
              "      <td>0.123171</td>\n",
              "    </tr>\n",
              "    <tr>\n",
              "      <th>1138</th>\n",
              "      <td>1/6/2020</td>\n",
              "      <td>30Y</td>\n",
              "      <td>0.230336</td>\n",
              "      <td>0.214774</td>\n",
              "      <td>0.200141</td>\n",
              "      <td>0.182702</td>\n",
              "      <td>0.165342</td>\n",
              "      <td>0.157626</td>\n",
              "      <td>0.150904</td>\n",
              "      <td>0.139885</td>\n",
              "      <td>0.132049</td>\n",
              "      <td>0.126258</td>\n",
              "      <td>0.124309</td>\n",
              "      <td>0.126991</td>\n",
              "      <td>0.119402</td>\n",
              "      <td>0.113992</td>\n",
              "      <td>0.122168</td>\n",
              "      <td>0.120672</td>\n",
              "      <td>0.121583</td>\n",
              "      <td>0.123036</td>\n",
              "      <td>0.124174</td>\n",
              "    </tr>\n",
              "    <tr>\n",
              "      <th>1139</th>\n",
              "      <td>1/6/2020</td>\n",
              "      <td>40Y</td>\n",
              "      <td>0.220531</td>\n",
              "      <td>0.200993</td>\n",
              "      <td>0.185398</td>\n",
              "      <td>0.171917</td>\n",
              "      <td>0.159978</td>\n",
              "      <td>0.149043</td>\n",
              "      <td>0.143876</td>\n",
              "      <td>0.137376</td>\n",
              "      <td>0.132654</td>\n",
              "      <td>0.125647</td>\n",
              "      <td>0.120781</td>\n",
              "      <td>0.119662</td>\n",
              "      <td>0.115525</td>\n",
              "      <td>0.119957</td>\n",
              "      <td>0.116859</td>\n",
              "      <td>0.116522</td>\n",
              "      <td>0.117128</td>\n",
              "      <td>0.120937</td>\n",
              "      <td>0.121933</td>\n",
              "    </tr>\n",
              "  </tbody>\n",
              "</table>\n",
              "<p>1140 rows × 21 columns</p>\n",
              "</div>\n",
              "      <button class=\"colab-df-convert\" onclick=\"convertToInteractive('df-8b7a70a3-bbbf-4918-9ba3-87cf16496005')\"\n",
              "              title=\"Convert this dataframe to an interactive table.\"\n",
              "              style=\"display:none;\">\n",
              "        \n",
              "  <svg xmlns=\"http://www.w3.org/2000/svg\" height=\"24px\"viewBox=\"0 0 24 24\"\n",
              "       width=\"24px\">\n",
              "    <path d=\"M0 0h24v24H0V0z\" fill=\"none\"/>\n",
              "    <path d=\"M18.56 5.44l.94 2.06.94-2.06 2.06-.94-2.06-.94-.94-2.06-.94 2.06-2.06.94zm-11 1L8.5 8.5l.94-2.06 2.06-.94-2.06-.94L8.5 2.5l-.94 2.06-2.06.94zm10 10l.94 2.06.94-2.06 2.06-.94-2.06-.94-.94-2.06-.94 2.06-2.06.94z\"/><path d=\"M17.41 7.96l-1.37-1.37c-.4-.4-.92-.59-1.43-.59-.52 0-1.04.2-1.43.59L10.3 9.45l-7.72 7.72c-.78.78-.78 2.05 0 2.83L4 21.41c.39.39.9.59 1.41.59.51 0 1.02-.2 1.41-.59l7.78-7.78 2.81-2.81c.8-.78.8-2.07 0-2.86zM5.41 20L4 18.59l7.72-7.72 1.47 1.35L5.41 20z\"/>\n",
              "  </svg>\n",
              "      </button>\n",
              "      \n",
              "  <style>\n",
              "    .colab-df-container {\n",
              "      display:flex;\n",
              "      flex-wrap:wrap;\n",
              "      gap: 12px;\n",
              "    }\n",
              "\n",
              "    .colab-df-convert {\n",
              "      background-color: #E8F0FE;\n",
              "      border: none;\n",
              "      border-radius: 50%;\n",
              "      cursor: pointer;\n",
              "      display: none;\n",
              "      fill: #1967D2;\n",
              "      height: 32px;\n",
              "      padding: 0 0 0 0;\n",
              "      width: 32px;\n",
              "    }\n",
              "\n",
              "    .colab-df-convert:hover {\n",
              "      background-color: #E2EBFA;\n",
              "      box-shadow: 0px 1px 2px rgba(60, 64, 67, 0.3), 0px 1px 3px 1px rgba(60, 64, 67, 0.15);\n",
              "      fill: #174EA6;\n",
              "    }\n",
              "\n",
              "    [theme=dark] .colab-df-convert {\n",
              "      background-color: #3B4455;\n",
              "      fill: #D2E3FC;\n",
              "    }\n",
              "\n",
              "    [theme=dark] .colab-df-convert:hover {\n",
              "      background-color: #434B5C;\n",
              "      box-shadow: 0px 1px 3px 1px rgba(0, 0, 0, 0.15);\n",
              "      filter: drop-shadow(0px 1px 2px rgba(0, 0, 0, 0.3));\n",
              "      fill: #FFFFFF;\n",
              "    }\n",
              "  </style>\n",
              "\n",
              "      <script>\n",
              "        const buttonEl =\n",
              "          document.querySelector('#df-8b7a70a3-bbbf-4918-9ba3-87cf16496005 button.colab-df-convert');\n",
              "        buttonEl.style.display =\n",
              "          google.colab.kernel.accessAllowed ? 'block' : 'none';\n",
              "\n",
              "        async function convertToInteractive(key) {\n",
              "          const element = document.querySelector('#df-8b7a70a3-bbbf-4918-9ba3-87cf16496005');\n",
              "          const dataTable =\n",
              "            await google.colab.kernel.invokeFunction('convertToInteractive',\n",
              "                                                     [key], {});\n",
              "          if (!dataTable) return;\n",
              "\n",
              "          const docLinkHtml = 'Like what you see? Visit the ' +\n",
              "            '<a target=\"_blank\" href=https://colab.research.google.com/notebooks/data_table.ipynb>data table notebook</a>'\n",
              "            + ' to learn more about interactive tables.';\n",
              "          element.innerHTML = '';\n",
              "          dataTable['output_type'] = 'display_data';\n",
              "          await google.colab.output.renderOutput(dataTable, element);\n",
              "          const docLink = document.createElement('div');\n",
              "          docLink.innerHTML = docLinkHtml;\n",
              "          element.appendChild(docLink);\n",
              "        }\n",
              "      </script>\n",
              "    </div>\n",
              "  </div>\n",
              "  "
            ],
            "text/plain": [
              "            Date Tenor       0.1  ...       1.7       1.8       1.9\n",
              "0     10/15/2019    2M  0.488703  ...  0.281949  0.281452  0.278104\n",
              "1     10/15/2019    3M  0.447438  ...  0.260152  0.253235  0.277384\n",
              "2     10/15/2019    6M  0.382343  ...  0.193026  0.210233  0.214113\n",
              "3     10/15/2019    9M  0.369795  ...  0.162180  0.208210  0.192152\n",
              "4     10/15/2019    1Y  0.327295  ...  0.175175  0.188962  0.167945\n",
              "...          ...   ...       ...  ...       ...       ...       ...\n",
              "1135    1/6/2020   15Y  0.276310  ...  0.135432  0.135580  0.131940\n",
              "1136    1/6/2020   20Y  0.251796  ...  0.122366  0.127657  0.129566\n",
              "1137    1/6/2020   25Y  0.242032  ...  0.119772  0.121194  0.123171\n",
              "1138    1/6/2020   30Y  0.230336  ...  0.121583  0.123036  0.124174\n",
              "1139    1/6/2020   40Y  0.220531  ...  0.117128  0.120937  0.121933\n",
              "\n",
              "[1140 rows x 21 columns]"
            ]
          },
          "metadata": {},
          "execution_count": 129
        }
      ]
    },
    {
      "cell_type": "code",
      "source": [
        "df_final.to_csv(\"submission_final.csv\")"
      ],
      "metadata": {
        "id": "zMenaFd9boRf"
      },
      "execution_count": null,
      "outputs": []
    },
    {
      "cell_type": "code",
      "source": [
        ""
      ],
      "metadata": {
        "id": "Ylts_N1iboVK"
      },
      "execution_count": null,
      "outputs": []
    },
    {
      "cell_type": "code",
      "source": [
        ""
      ],
      "metadata": {
        "id": "GRoISIYxboYj"
      },
      "execution_count": null,
      "outputs": []
    },
    {
      "cell_type": "code",
      "source": [
        ""
      ],
      "metadata": {
        "id": "op7wz0Orbob8"
      },
      "execution_count": null,
      "outputs": []
    }
  ],
  "metadata": {
    "accelerator": "GPU",
    "colab": {
      "collapsed_sections": [
        "kwVzfrinj6e1",
        "oWlS8Rtfn7pH",
        "BsRFeuZa07eu"
      ],
      "name": "Wells Fargo ML.ipynb",
      "provenance": []
    },
    "kernelspec": {
      "display_name": "Python 3",
      "name": "python3"
    },
    "language_info": {
      "name": "python"
    }
  },
  "nbformat": 4,
  "nbformat_minor": 0
}